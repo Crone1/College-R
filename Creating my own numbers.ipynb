{
 "cells": [
  {
   "cell_type": "code",
   "execution_count": 1,
   "metadata": {},
   "outputs": [
    {
     "data": {
      "text/html": [
       "<ol class=list-inline>\n",
       "\t<li>2</li>\n",
       "\t<li>20</li>\n",
       "\t<li>16.18855</li>\n",
       "\t<li>1.857077</li>\n",
       "\t<li>24.11095</li>\n",
       "\t<li>1.831814</li>\n",
       "</ol>\n"
      ],
      "text/latex": [
       "\\begin{enumerate*}\n",
       "\\item 2\n",
       "\\item 20\n",
       "\\item 16.18855\n",
       "\\item 1.857077\n",
       "\\item 24.11095\n",
       "\\item 1.831814\n",
       "\\end{enumerate*}\n"
      ],
      "text/markdown": [
       "1. 2\n",
       "2. 20\n",
       "3. 16.18855\n",
       "4. 1.857077\n",
       "5. 24.11095\n",
       "6. 1.831814\n",
       "\n",
       "\n"
      ],
      "text/plain": [
       "[1]  2.000000 20.000000 16.188550  1.857077 24.110950  1.831814"
      ]
     },
     "metadata": {},
     "output_type": "display_data"
    }
   ],
   "source": [
    "# read in the data\n",
    "final = scan(\"final\")\n",
    "head(final)"
   ]
  },
  {
   "cell_type": "code",
   "execution_count": 2,
   "metadata": {},
   "outputs": [
    {
     "data": {
      "text/html": [
       "<table>\n",
       "<tbody>\n",
       "\t<tr><td> 2.000000  </td><td> 6.000000  </td><td> 1.000000  </td><td> 3.000000  </td><td>12.000000  </td><td>13.000000  </td><td>17.000000  </td><td>18.000000  </td><td>20.000000  </td><td>22.000000  </td><td>...        </td><td>841.000000 </td><td>845.0000000</td><td>846.000000 </td><td>870.0000000</td><td>885.0000000</td><td>891.000000 </td><td>905.000000 </td><td>925.000000 </td><td>953.0000000</td><td>955.00000  </td></tr>\n",
       "\t<tr><td>20.000000  </td><td>15.755600  </td><td>15.003110  </td><td>14.132080  </td><td>16.101200  </td><td>11.504800  </td><td>12.013270  </td><td>10.000000  </td><td>12.746430  </td><td>18.686510  </td><td>...        </td><td> 16.722730 </td><td> 17.8626700</td><td> 10.759510 </td><td> 15.8969900</td><td> 14.1215600</td><td> 17.085380 </td><td> 19.959810 </td><td> 14.997190 </td><td> 11.1112400</td><td> 16.27427  </td></tr>\n",
       "\t<tr><td>16.188550  </td><td>16.739840  </td><td>15.101400  </td><td>14.572190  </td><td>15.595690  </td><td>12.595730  </td><td>12.847740  </td><td>13.904870  </td><td>14.430840  </td><td>17.402140  </td><td>...        </td><td> 15.364540 </td><td> 17.0439300</td><td> 12.040200 </td><td> 16.1594100</td><td> 15.8524800</td><td> 15.979520 </td><td> 18.911850 </td><td> 15.431150 </td><td> 14.4515100</td><td> 16.94960  </td></tr>\n",
       "\t<tr><td> 1.857077  </td><td> 2.318855  </td><td> 1.940486  </td><td> 2.164948  </td><td> 1.891039  </td><td> 2.065283  </td><td> 2.416031  </td><td> 1.936810  </td><td> 1.838844  </td><td> 2.099650  </td><td>...        </td><td>  2.275911 </td><td>  2.2550620</td><td>  2.058041 </td><td>  2.3198860</td><td>  2.4328920</td><td>  2.308515 </td><td>  2.349004 </td><td>  2.390848 </td><td>  2.4027020</td><td>  2.29594  </td></tr>\n",
       "\t<tr><td>24.110950  </td><td>19.639040  </td><td>23.222530  </td><td>25.267910  </td><td>16.456310  </td><td>27.965890  </td><td>21.314080  </td><td>13.222470  </td><td>17.149840  </td><td>19.481110  </td><td>...        </td><td> 22.735650 </td><td> 19.2517000</td><td> 12.753410 </td><td> 21.0844300</td><td> 19.8731400</td><td> 21.446260 </td><td> 27.767630 </td><td> 18.964820 </td><td> 17.3067300</td><td> 20.44962  </td></tr>\n",
       "\t<tr><td> 1.831814  </td><td> 1.925874  </td><td> 1.599497  </td><td> 3.579100  </td><td> 1.436735  </td><td> 1.758638  </td><td> 1.397223  </td><td> 1.000441  </td><td> 1.983947  </td><td> 2.454884  </td><td>...        </td><td>  1.575991 </td><td>  0.8929076</td><td>  1.182923 </td><td>  0.8118587</td><td>  0.6918162</td><td>  1.871675 </td><td>  1.458463 </td><td>  1.325294 </td><td>  0.8978423</td><td>  1.45263  </td></tr>\n",
       "</tbody>\n",
       "</table>\n"
      ],
      "text/latex": [
       "\\begin{tabular}{llllllllllllllllllllllllllllllllllllllllllllllllllllllllllllllllllllllllllllllllllllllllllllllllllllllllllllllllllllllllllllllllllllllllllllllllllllllllllllllllllllllllllllllllllllllllllllllllllllllllllllllllllllllllllllllllllllllllllllllllllllllllllllllllllllllllllllllllllllllllllllllllllllllllllllllllllllllllllllllllllllllllllllllllllllllllllllllllllllllllllllllllllllllllllllllllllllllllllllllllllllllllllllllllllllllllllllllllllllllllllllllllllllllllllllllllllllllllllllllllllllllllllllllllllllllllllllllllllllllllllllllllllllllllllllllllllllllllllllllllllllllllllllllllllllllllllllllllllllllllllllllllllllllllllllllllllllllllllllllllllllllllllllllllllllllllllllllllllllllllllllllllllllllllllllllllllllllllllllllllllllllllllllllllllllllllllllllllllllllllllllllllllllllllllllllllllllllllllllllllllllllllllllllllllllllllllllllllllllllllllllllllllllllllllllllllllllllllll}\n",
       "\t  2.000000   &  6.000000   &  1.000000   &  3.000000   & 12.000000   & 13.000000   & 17.000000   & 18.000000   & 20.000000   & 22.000000   & ...         & 841.000000  & 845.0000000 & 846.000000  & 870.0000000 & 885.0000000 & 891.000000  & 905.000000  & 925.000000  & 953.0000000 & 955.00000  \\\\\n",
       "\t 20.000000   & 15.755600   & 15.003110   & 14.132080   & 16.101200   & 11.504800   & 12.013270   & 10.000000   & 12.746430   & 18.686510   & ...         &  16.722730  &  17.8626700 &  10.759510  &  15.8969900 &  14.1215600 &  17.085380  &  19.959810  &  14.997190  &  11.1112400 &  16.27427  \\\\\n",
       "\t 16.188550   & 16.739840   & 15.101400   & 14.572190   & 15.595690   & 12.595730   & 12.847740   & 13.904870   & 14.430840   & 17.402140   & ...         &  15.364540  &  17.0439300 &  12.040200  &  16.1594100 &  15.8524800 &  15.979520  &  18.911850  &  15.431150  &  14.4515100 &  16.94960  \\\\\n",
       "\t  1.857077   &  2.318855   &  1.940486   &  2.164948   &  1.891039   &  2.065283   &  2.416031   &  1.936810   &  1.838844   &  2.099650   & ...         &   2.275911  &   2.2550620 &   2.058041  &   2.3198860 &   2.4328920 &   2.308515  &   2.349004  &   2.390848  &   2.4027020 &   2.29594  \\\\\n",
       "\t 24.110950   & 19.639040   & 23.222530   & 25.267910   & 16.456310   & 27.965890   & 21.314080   & 13.222470   & 17.149840   & 19.481110   & ...         &  22.735650  &  19.2517000 &  12.753410  &  21.0844300 &  19.8731400 &  21.446260  &  27.767630  &  18.964820  &  17.3067300 &  20.44962  \\\\\n",
       "\t  1.831814   &  1.925874   &  1.599497   &  3.579100   &  1.436735   &  1.758638   &  1.397223   &  1.000441   &  1.983947   &  2.454884   & ...         &   1.575991  &   0.8929076 &   1.182923  &   0.8118587 &   0.6918162 &   1.871675  &   1.458463  &   1.325294  &   0.8978423 &   1.45263  \\\\\n",
       "\\end{tabular}\n"
      ],
      "text/markdown": [
       "\n",
       "|  2.000000   |  6.000000   |  1.000000   |  3.000000   | 12.000000   | 13.000000   | 17.000000   | 18.000000   | 20.000000   | 22.000000   | ...         | 841.000000  | 845.0000000 | 846.000000  | 870.0000000 | 885.0000000 | 891.000000  | 905.000000  | 925.000000  | 953.0000000 | 955.00000   | \n",
       "| 20.000000   | 15.755600   | 15.003110   | 14.132080   | 16.101200   | 11.504800   | 12.013270   | 10.000000   | 12.746430   | 18.686510   | ...         |  16.722730  |  17.8626700 |  10.759510  |  15.8969900 |  14.1215600 |  17.085380  |  19.959810  |  14.997190  |  11.1112400 |  16.27427   | \n",
       "| 16.188550   | 16.739840   | 15.101400   | 14.572190   | 15.595690   | 12.595730   | 12.847740   | 13.904870   | 14.430840   | 17.402140   | ...         |  15.364540  |  17.0439300 |  12.040200  |  16.1594100 |  15.8524800 |  15.979520  |  18.911850  |  15.431150  |  14.4515100 |  16.94960   | \n",
       "|  1.857077   |  2.318855   |  1.940486   |  2.164948   |  1.891039   |  2.065283   |  2.416031   |  1.936810   |  1.838844   |  2.099650   | ...         |   2.275911  |   2.2550620 |   2.058041  |   2.3198860 |   2.4328920 |   2.308515  |   2.349004  |   2.390848  |   2.4027020 |   2.29594   | \n",
       "| 24.110950   | 19.639040   | 23.222530   | 25.267910   | 16.456310   | 27.965890   | 21.314080   | 13.222470   | 17.149840   | 19.481110   | ...         |  22.735650  |  19.2517000 |  12.753410  |  21.0844300 |  19.8731400 |  21.446260  |  27.767630  |  18.964820  |  17.3067300 |  20.44962   | \n",
       "|  1.831814   |  1.925874   |  1.599497   |  3.579100   |  1.436735   |  1.758638   |  1.397223   |  1.000441   |  1.983947   |  2.454884   | ...         |   1.575991  |   0.8929076 |   1.182923  |   0.8118587 |   0.6918162 |   1.871675  |   1.458463  |   1.325294  |   0.8978423 |   1.45263   | \n",
       "\n",
       "\n"
      ],
      "text/plain": [
       "     [,1]      [,2]      [,3]      [,4]      [,5]      [,6]      [,7]     \n",
       "[1,]  2.000000  6.000000  1.000000  3.000000 12.000000 13.000000 17.000000\n",
       "[2,] 20.000000 15.755600 15.003110 14.132080 16.101200 11.504800 12.013270\n",
       "[3,] 16.188550 16.739840 15.101400 14.572190 15.595690 12.595730 12.847740\n",
       "[4,]  1.857077  2.318855  1.940486  2.164948  1.891039  2.065283  2.416031\n",
       "[5,] 24.110950 19.639040 23.222530 25.267910 16.456310 27.965890 21.314080\n",
       "[6,]  1.831814  1.925874  1.599497  3.579100  1.436735  1.758638  1.397223\n",
       "     [,8]      [,9]      [,10]     [,11] [,12]      [,13]       [,14]     \n",
       "[1,] 18.000000 20.000000 22.000000 ...   841.000000 845.0000000 846.000000\n",
       "[2,] 10.000000 12.746430 18.686510 ...    16.722730  17.8626700  10.759510\n",
       "[3,] 13.904870 14.430840 17.402140 ...    15.364540  17.0439300  12.040200\n",
       "[4,]  1.936810  1.838844  2.099650 ...     2.275911   2.2550620   2.058041\n",
       "[5,] 13.222470 17.149840 19.481110 ...    22.735650  19.2517000  12.753410\n",
       "[6,]  1.000441  1.983947  2.454884 ...     1.575991   0.8929076   1.182923\n",
       "     [,15]       [,16]       [,17]      [,18]      [,19]      [,20]      \n",
       "[1,] 870.0000000 885.0000000 891.000000 905.000000 925.000000 953.0000000\n",
       "[2,]  15.8969900  14.1215600  17.085380  19.959810  14.997190  11.1112400\n",
       "[3,]  16.1594100  15.8524800  15.979520  18.911850  15.431150  14.4515100\n",
       "[4,]   2.3198860   2.4328920   2.308515   2.349004   2.390848   2.4027020\n",
       "[5,]  21.0844300  19.8731400  21.446260  27.767630  18.964820  17.3067300\n",
       "[6,]   0.8118587   0.6918162   1.871675   1.458463   1.325294   0.8978423\n",
       "     [,21]    \n",
       "[1,] 955.00000\n",
       "[2,]  16.27427\n",
       "[3,]  16.94960\n",
       "[4,]   2.29594\n",
       "[5,]  20.44962\n",
       "[6,]   1.45263"
      ]
     },
     "metadata": {},
     "output_type": "display_data"
    }
   ],
   "source": [
    "# turn to matrix\n",
    "final = matrix(final,12,874)\n",
    "head(final)"
   ]
  },
  {
   "cell_type": "code",
   "execution_count": 3,
   "metadata": {},
   "outputs": [],
   "source": [
    "# get a subset of this matrix\n",
    "results2 =  final[2:11,]"
   ]
  },
  {
   "cell_type": "code",
   "execution_count": 4,
   "metadata": {},
   "outputs": [],
   "source": [
    "# get the variance\n",
    "resvar = apply(results2,1,var)\n",
    "results3 = results2/sqrt(resvar)\n",
    "cr = var(t(results3))"
   ]
  },
  {
   "cell_type": "code",
   "execution_count": 5,
   "metadata": {},
   "outputs": [
    {
     "data": {
      "image/png": "[encoded data removed]",
      "text/plain": [
       "plot without title"
      ]
     },
     "metadata": {},
     "output_type": "display_data"
    }
   ],
   "source": [
    "# get the eigenvalues\n",
    "er = eigen(cr)\n",
    "plot(er$values)"
   ]
  },
  {
   "cell_type": "code",
   "execution_count": 6,
   "metadata": {},
   "outputs": [],
   "source": [
    "stroke = function(x1,y1,theta,len,width)\n",
    "{\n",
    "    x=c(1:16)\n",
    "    y=c(1:16)\n",
    "    x=x-x1\n",
    "    y=y-y1\n",
    "    u1=x*cos(theta)\n",
    "    u2=y*sin(theta)\n",
    "    #u=ones %*% t(u1) + t(ones %*% t(u2))\n",
    "    u=matrix(u1,16,16)+t(matrix(u2,16,16))\n",
    "    v1=-x*sin(theta)\n",
    "    v2=y*cos(theta)\n",
    "    #v=(ones %*% t(v1) + t(ones %*% t(v2)))\n",
    "    v=matrix(v1,16,16)+t(matrix(v2,16,16))\n",
    "    m = (v > 0 & v < len)\n",
    "    exp(-u*u/width)*m\n",
    "}"
   ]
  },
  {
   "cell_type": "code",
   "execution_count": 7,
   "metadata": {},
   "outputs": [],
   "source": [
    "p=t(results3[1:10,]) %*% er$vectors[,1:10]\n",
    "mp = apply(p,2,mean)\n",
    "mr3 = mp %*% t(er$vectors[,1:10])"
   ]
  },
  {
   "cell_type": "code",
   "execution_count": 8,
   "metadata": {},
   "outputs": [
    {
     "data": {
      "text/html": [
       "<table>\n",
       "<tbody>\n",
       "\t<tr><td>15.55356</td><td>15.25372</td><td>2.172491</td><td>19.64832</td><td>1.652086</td><td>15.22382</td><td>16.53718</td><td>2.827542</td><td>19.14668</td><td>2.554348</td></tr>\n",
       "</tbody>\n",
       "</table>\n"
      ],
      "text/latex": [
       "\\begin{tabular}{llllllllll}\n",
       "\t 15.55356 & 15.25372 & 2.172491 & 19.64832 & 1.652086 & 15.22382 & 16.53718 & 2.827542 & 19.14668 & 2.554348\\\\\n",
       "\\end{tabular}\n"
      ],
      "text/markdown": [
       "\n",
       "| 15.55356 | 15.25372 | 2.172491 | 19.64832 | 1.652086 | 15.22382 | 16.53718 | 2.827542 | 19.14668 | 2.554348 | \n",
       "\n",
       "\n"
      ],
      "text/plain": [
       "     [,1]     [,2]     [,3]     [,4]     [,5]     [,6]     [,7]     [,8]    \n",
       "[1,] 15.55356 15.25372 2.172491 19.64832 1.652086 15.22382 16.53718 2.827542\n",
       "     [,9]     [,10]   \n",
       "[1,] 19.14668 2.554348"
      ]
     },
     "metadata": {},
     "output_type": "display_data"
    }
   ],
   "source": [
    "mr2 = mr3 * sqrt(resvar)\n",
    "mr2"
   ]
  },
  {
   "cell_type": "code",
   "execution_count": 11,
   "metadata": {},
   "outputs": [
    {
     "name": "stdout",
     "output_type": "stream",
     "text": [
      "\n",
      "\n",
      "\n",
      "\n",
      "\n",
      "\n",
      "\n",
      "\n",
      "\n",
      "\n",
      "\n"
     ]
    },
    {
     "ename": "ERROR",
     "evalue": "Error in ims[, 2:12]: subscript out of bounds\n",
     "output_type": "error",
     "traceback": [
      "Error in ims[, 2:12]: subscript out of bounds\nTraceback:\n"
     ]
    },
    {
     "data": {
      "image/png": "[encoded data removed]",
      "text/plain": [
       "plot without title"
      ]
     },
     "metadata": {},
     "output_type": "display_data"
    }
   ],
   "source": [
    "ims = matrix(0,256,1)\n",
    "\n",
    "for(j in c(-6:2))\n",
    "{\n",
    "    ims = matrix(0,256,1)\n",
    "    for(i in seq(0,-10,-1))\n",
    "    {\n",
    "        #rp = mp+(i+5)*c(1,rep(0,9)) \n",
    "        rp = mp + (j+1) * c(0,1,rep(0,8))\n",
    "        rp3 = rp %*% t(er$vectors[,1:10])\n",
    "        rec = rp3 * sqrt(resvar)\n",
    "        s1 = stroke(rec[1],rec[2],rec[3],rec[4],rec[5])\n",
    "        s2 = stroke(rec[6],rec[7],rec[8],rec[9],rec[10])\n",
    "        im = s1 + s2\n",
    "        im[im > 1] = 1\n",
    "        image(c(1:16),c(1:16),256*im,col=gray(c(0:256)/256))\n",
    "        #ims = cbind(ims,matrix(im[,16:1],256,1))\n",
    "        readline()\n",
    "    }\n",
    "    ims = ims[,2:12]\n",
    "    ims = t(ims)\n",
    "    q = ims %*% er$vectors[,1:3]\n",
    "    q = 256 * q\n",
    "    points(q[,1],q[,2],col='red')\n",
    "    lines(q[,1],q[,2],col='red')\n",
    "}"
   ]
  },
  {
   "cell_type": "code",
   "execution_count": null,
   "metadata": {},
   "outputs": [
    {
     "name": "stdout",
     "output_type": "stream",
     "text": [
      "\n",
      "\n"
     ]
    },
    {
     "data": {
      "image/png": "[encoded data removed]",
      "text/plain": [
       "plot without title"
      ]
     },
     "metadata": {},
     "output_type": "display_data"
    },
    {
     "name": "stdout",
     "output_type": "stream",
     "text": [
      "\n"
     ]
    },
    {
     "data": {
      "image/png": "[encoded data removed]",
      "text/plain": [
       "plot without title"
      ]
     },
     "metadata": {},
     "output_type": "display_data"
    },
    {
     "name": "stdout",
     "output_type": "stream",
     "text": [
      "\n"
     ]
    },
    {
     "data": {
      "image/png": "[encoded data removed]",
      "text/plain": [
       "plot without title"
      ]
     },
     "metadata": {},
     "output_type": "display_data"
    },
    {
     "name": "stdout",
     "output_type": "stream",
     "text": [
      "\n"
     ]
    },
    {
     "data": {
      "image/png": "[encoded data removed]",
      "text/plain": [
       "plot without title"
      ]
     },
     "metadata": {},
     "output_type": "display_data"
    },
    {
     "name": "stdout",
     "output_type": "stream",
     "text": [
      "\n"
     ]
    },
    {
     "data": {
      "image/png": "[encoded data removed]",
      "text/plain": [
       "plot without title"
      ]
     },
     "metadata": {},
     "output_type": "display_data"
    },
    {
     "name": "stdout",
     "output_type": "stream",
     "text": [
      "\n"
     ]
    },
    {
     "data": {
      "image/png": "[encoded data removed]",
      "text/plain": [
       "plot without title"
      ]
     },
     "metadata": {},
     "output_type": "display_data"
    }
   ],
   "source": [
    "ims = matrix(0,256,1)\n",
    "\n",
    "for(j in c(-6:2))\n",
    "{\n",
    "    \n",
    "    #rp = mp+(i+5)*c(1,rep(0,9)) \n",
    "    rp = mp + (j+1) * c(0,1,rep(0,8))\n",
    "    rp3 = rp %*% t(er$vectors[,1:10])\n",
    "    rec = rp3 * sqrt(resvar)\n",
    "    s1 = stroke(rec[1],rec[2],rec[3],rec[4],rec[5])\n",
    "    s2 = stroke(rec[6],rec[7],rec[8],rec[9],rec[10])\n",
    "    im = s1 + s2\n",
    "    im[im > 1] = 1\n",
    "    image(c(1:16),c(1:16),256*im,col=gray(c(0:256)/256))\n",
    "    #ims = cbind(ims,matrix(im[,16:1],256,1))\n",
    "    readline()\n",
    "}\n",
    "ims = ims[,2:12]\n",
    "ims = t(ims)\n",
    "q = ims %*% er$vectors[,1:3]\n",
    "q = 256 * q\n",
    "points(q[,1],q[,2],col='red')\n",
    "lines(q[,1],q[,2],col='red')"
   ]
  },
  {
   "cell_type": "code",
   "execution_count": null,
   "metadata": {},
   "outputs": [],
   "source": [
    "ims = matrix(0,256,1)\n",
    "for(i in c(1:874))\n",
    "{\n",
    "    rec = final[2:12,i]\n",
    "    s1 = stroke(rec[1],rec[2],rec[3],rec[4],rec[5])\n",
    "    s2 = stroke(rec[6],rec[7],rec[8],rec[9],rec[10])\n",
    "    im = s1 + s2\n",
    "    im = rec[11] * im\n",
    "    im[im > 1] = 1\n",
    "    #image(c(1:16),c(1:16),256*im,col=gray(c(0:256)/256))\n",
    "    ims=cbind(ims,matrix(im[,16:1],256,1))\n",
    "    #readline()\n",
    "}\n",
    "ims = ims[,2:875]\n",
    "ims = t(ims)\n",
    "q = ims %*% e$vectors[,1:3]\n",
    "q = 256 * q\n",
    "points(q[,1],q[,2],col='blue')"
   ]
  },
  {
   "cell_type": "code",
   "execution_count": 13,
   "metadata": {},
   "outputs": [],
   "source": [
    "# randomly generate 10000 '1's\n",
    "ranv = matrix(rnorm(100000),10,10000)\n",
    "ranv = ranv * sqrt(er$values)\n",
    "ranv = ranv+mp\n",
    "\n",
    "ranv3=t(ranv)%*% t(er$vectors)\n",
    "ranv3=t(ranv3)\n",
    "ranv3=ranv3*sqrt(resvar)"
   ]
  },
  {
   "cell_type": "code",
   "execution_count": null,
   "metadata": {},
   "outputs": [],
   "source": [
    "ims = matrix(0,256,1)\n",
    "for(i in c(1:10000))\n",
    "{\n",
    "    rec=ranv3[,i]\n",
    "    rec[1]=max(min(20,rec[1]),10.0)\n",
    "    rec[2]=max(min(20,rec[2]),10.0)\n",
    "    rec[6]=max(min(20,rec[6]),10.0)\n",
    "    rec[7]=max(min(20,rec[7]),10.0)\n",
    "    rec[3]=max(rec[3],0.5*pi)\n",
    "    rec[8]=max(rec[8],rec[3]+0.05*pi)\n",
    "    rec[4]=max(min(28,rec[4]),4.0)\n",
    "    rec[9]=max(min(28,rec[9]),4.0)\n",
    "    rec[5]=max(min(7.0,rec[5]),0.1)\n",
    "    rec[10]=max(min(7.0,rec[10]),0.1)\n",
    "    s1 = stroke(rec[1],rec[2],rec[3],rec[4],rec[5])\n",
    "    s2 = stroke(rec[6],rec[7],rec[8],rec[9],rec[10])\n",
    "    im = s1 + s2\n",
    "    #im = rec[11] * im\n",
    "    im[im > 1] = 1\n",
    "    #image(c(1:16),c(1:16),256*im,col=gray(c(0:256)/256))\n",
    "    ims = cbind(ims,matrix(im[,16:1],256,1))\n",
    "    #readline()\n",
    "}\n",
    "ims = ims[,2:10000]\n",
    "ims = t(ims)\n",
    "q = ims %*% e$vectors[,1:3]\n",
    "q = 256 * q\n",
    "points(q[,1],q[,2],col='blue')"
   ]
  },
  {
   "cell_type": "code",
   "execution_count": null,
   "metadata": {
    "scrolled": true
   },
   "outputs": [],
   "source": [
    "# select points which lie within a small square region of the randomly-generated, blurred '1's\n",
    "index = 1:10000\n",
    "group = index[q[,1] > -4.5 & q[,1] < -4 & q[,2] > -0.5 & q[,2] < 0]"
   ]
  },
  {
   "cell_type": "code",
   "execution_count": null,
   "metadata": {
    "scrolled": true
   },
   "outputs": [],
   "source": [
    "# display the selected images\n",
    "par(mfrow=c(5,5))\n",
    "for(i in group)\n",
    "{\n",
    "    z = matrix(ims[i,],16,16)\n",
    "    image(c(1:16),c(1:16),z[,16:1],col=gray(c(0:256)/256))\n",
    "    readline()\n",
    "}"
   ]
  },
  {
   "cell_type": "code",
   "execution_count": null,
   "metadata": {},
   "outputs": [],
   "source": []
  }
 ],
 "metadata": {
  "kernelspec": {
   "display_name": "R",
   "language": "R",
   "name": "ir"
  },
  "language_info": {
   "codemirror_mode": "r",
   "file_extension": ".r",
   "mimetype": "text/x-r-source",
   "name": "R",
   "pygments_lexer": "r",
   "version": "3.5.1"
  }
 },
 "nbformat": 4,
 "nbformat_minor": 2
}
