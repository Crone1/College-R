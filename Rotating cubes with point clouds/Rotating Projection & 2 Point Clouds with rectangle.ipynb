{
 "cells": [
  {
   "cell_type": "code",
   "execution_count": 1,
   "metadata": {},
   "outputs": [],
   "source": [
    "# create rotation angle\n",
    "theta = 2* pi/1000"
   ]
  },
  {
   "cell_type": "code",
   "execution_count": 2,
   "metadata": {},
   "outputs": [],
   "source": [
    "# create rotation matrix\n",
    "rotation = matrix(c(cos(theta), sin(theta), -sin(theta), cos(theta)), 2,2)"
   ]
  },
  {
   "cell_type": "code",
   "execution_count": 3,
   "metadata": {},
   "outputs": [],
   "source": [
    "# create cube matrix\n",
    "cube = matrix(c(1,1,1,1,-1,1,-1,-1,1,-1,1,1,1,1,-1,1,-1,-1,-1,-1,-1,-1,1,-1),3,8)"
   ]
  },
  {
   "cell_type": "code",
   "execution_count": 4,
   "metadata": {},
   "outputs": [],
   "source": [
    "# create a random point cloud\n",
    "x = rnorm(100)-2\n",
    "y = rnorm(100)\n",
    "z = rnorm(100)\n",
    "data= rbind(x, y, z)"
   ]
  },
  {
   "cell_type": "code",
   "execution_count": 5,
   "metadata": {},
   "outputs": [],
   "source": [
    "# create a random point cloud\n",
    "x2 = rnorm(100) + 2\n",
    "y2 = rnorm(100)\n",
    "z2 = rnorm(100)\n",
    "data2 = rbind(x2, y2, z2)"
   ]
  },
  {
   "cell_type": "code",
   "execution_count": 6,
   "metadata": {},
   "outputs": [],
   "source": [
    "# create the projection matrix\n",
    "proj = matrix(0, 2,8)"
   ]
  },
  {
   "cell_type": "code",
   "execution_count": 7,
   "metadata": {},
   "outputs": [],
   "source": [
    "# set size of the projection\n",
    "j = 4"
   ]
  },
  {
   "cell_type": "code",
   "execution_count": 8,
   "metadata": {},
   "outputs": [],
   "source": [
    "# set colour of the rectangle\n",
    "rectcol = \"white\""
   ]
  },
  {
   "cell_type": "code",
   "execution_count": 9,
   "metadata": {},
   "outputs": [
    {
     "ename": "ERROR",
     "evalue": "Error in if ((pos$x > -0.5) && (pos$x < 0.5) && (pos$y < 3) && (pos$y > : missing value where TRUE/FALSE needed\n",
     "output_type": "error",
     "traceback": [
      "Error in if ((pos$x > -0.5) && (pos$x < 0.5) && (pos$y < 3) && (pos$y > : missing value where TRUE/FALSE needed\nTraceback:\n"
     ]
    },
    {
     "data": {
      "image/png": "[encoded data removed]",
      "text/plain": [
       "plot without title"
      ]
     },
     "metadata": {},
     "output_type": "display_data"
    }
   ],
   "source": [
    "# rotate point cloud after each mouse click\n",
    "#    change rectangle colour if it is clicked\n",
    "for (i in c(1:10000))\n",
    "{\n",
    "    plot.new()\n",
    "    plot.window(xlim=c(-3,3), ylim = c(-3,3))\n",
    "    cube[c(1,3),]= rotation %*% cube[c(1,3),]\n",
    "\n",
    "    data[c(1,3),]= rotation %*% data[c(1,3),]\n",
    "    points(data[1,], data[2,], col=\"red\", pch= 11)\n",
    "\n",
    "    data2[c(1,3),]= rotation %*% data2[c(1,3),]\n",
    "    points(data2[1,], data2[2,], col=\"blue\", pch=4)\n",
    "\n",
    "    proj[1,] = cube[1,]/(j-cube[3,])\n",
    "    proj[2,] = cube[2,]/(j-cube[3,])\n",
    "\n",
    "    #lines(cube[1,c(1,2,3,4,1)], cube[2,c(1,2,3,4,1)])\n",
    "    #lines(cube[1,c(5,6,7,8,5)], cube[2,c(5,6,7,8,5)])\n",
    "    #lines(cube[1,c(1,5)], cube[2,c(1,5)])\n",
    "    #lines(cube[1,c(2,6)], cube[2,c(2,6)])\n",
    "    #lines(cube[1,c(3,7)], cube[2,c(3,7)])\n",
    "    #lines(cube[1,c(4,8)], cube[2,c(4,8)])\n",
    "\n",
    "    lines(proj[1,c(1,2,3,4,1)], proj[2,c(1,2,3,4,1)])\n",
    "    lines(proj[1,c(5,6,7,8,5)], proj[2,c(5,6,7,8,5)])\n",
    "    lines(proj[1,c(1,5)], proj[2,c(1,5)])\n",
    "    lines(proj[1,c(2,6)], proj[2,c(2,6)])\n",
    "    lines(proj[1,c(3,7)], proj[2,c(3,7)])\n",
    "    lines(proj[1,c(4,8)], proj[2,c(4,8)])\n",
    "\n",
    "    if (rectcol == \"orange\")\n",
    "    {\n",
    "        rectangle = rect(-0.5, 2.5, 0.5, 3, col=\"orange\")\n",
    "    }\n",
    "\n",
    "    else\n",
    "    {\n",
    "        rectangle = rect(-0.5, 2.5, 0.5, 3)\n",
    "        rectcol = \"white\"\n",
    "    }\n",
    "\n",
    "    pos = locator(n = 1)\n",
    "\n",
    "    if ((pos$x > -0.5) && (pos$x < 0.5) && (pos$y < 3) && (pos$y > 2.5))\n",
    "    {\n",
    "        rectangle = rect(-0.5,2.5,0.5,3,col=\"orange\")\n",
    "        rectcol = \"orange\"\n",
    "    }\n",
    "}"
   ]
  },
  {
   "cell_type": "code",
   "execution_count": null,
   "metadata": {},
   "outputs": [],
   "source": []
  }
 ],
 "metadata": {
  "kernelspec": {
   "display_name": "R",
   "language": "R",
   "name": "ir"
  },
  "language_info": {
   "codemirror_mode": "r",
   "file_extension": ".r",
   "mimetype": "text/x-r-source",
   "name": "R",
   "pygments_lexer": "r",
   "version": "3.5.1"
  }
 },
 "nbformat": 4,
 "nbformat_minor": 2
}
