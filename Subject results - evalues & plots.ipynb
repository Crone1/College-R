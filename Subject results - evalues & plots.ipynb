{
 "cells": [
  {
   "cell_type": "code",
   "execution_count": 2,
   "metadata": {},
   "outputs": [],
   "source": [
    "# read in the data\n",
    "results = read.table(\"results.txt\", header=T)\n",
    "attach(results)"
   ]
  },
  {
   "cell_type": "code",
   "execution_count": 3,
   "metadata": {},
   "outputs": [
    {
     "data": {
      "text/html": [
       "<table>\n",
       "<thead><tr><th scope=col>gender</th><th scope=col>arch1</th><th scope=col>prog1</th><th scope=col>arch2</th><th scope=col>prog2</th></tr></thead>\n",
       "<tbody>\n",
       "\t<tr><td>m  </td><td> 99</td><td>98 </td><td>83 </td><td>94 </td></tr>\n",
       "\t<tr><td>m  </td><td> NA</td><td>NA </td><td>86 </td><td>77 </td></tr>\n",
       "\t<tr><td>m  </td><td> 97</td><td>97 </td><td>92 </td><td>93 </td></tr>\n",
       "\t<tr><td>m  </td><td> 99</td><td>97 </td><td>95 </td><td>96 </td></tr>\n",
       "\t<tr><td>m  </td><td> 89</td><td>92 </td><td>86 </td><td>94 </td></tr>\n",
       "\t<tr><td>m  </td><td> 91</td><td>97 </td><td>91 </td><td>97 </td></tr>\n",
       "\t<tr><td>m  </td><td>100</td><td>88 </td><td>96 </td><td>85 </td></tr>\n",
       "\t<tr><td>f  </td><td> 86</td><td>82 </td><td>89 </td><td>87 </td></tr>\n",
       "\t<tr><td>m  </td><td> 89</td><td>88 </td><td>65 </td><td>84 </td></tr>\n",
       "\t<tr><td>m  </td><td> 85</td><td>90 </td><td>83 </td><td>85 </td></tr>\n",
       "</tbody>\n",
       "</table>\n"
      ],
      "text/latex": [
       "\\begin{tabular}{r|lllll}\n",
       " gender & arch1 & prog1 & arch2 & prog2\\\\\n",
       "\\hline\n",
       "\t m   &  99 & 98  & 83  & 94 \\\\\n",
       "\t m   &  NA & NA  & 86  & 77 \\\\\n",
       "\t m   &  97 & 97  & 92  & 93 \\\\\n",
       "\t m   &  99 & 97  & 95  & 96 \\\\\n",
       "\t m   &  89 & 92  & 86  & 94 \\\\\n",
       "\t m   &  91 & 97  & 91  & 97 \\\\\n",
       "\t m   & 100 & 88  & 96  & 85 \\\\\n",
       "\t f   &  86 & 82  & 89  & 87 \\\\\n",
       "\t m   &  89 & 88  & 65  & 84 \\\\\n",
       "\t m   &  85 & 90  & 83  & 85 \\\\\n",
       "\\end{tabular}\n"
      ],
      "text/markdown": [
       "\n",
       "gender | arch1 | prog1 | arch2 | prog2 | \n",
       "|---|---|---|---|---|---|---|---|---|---|\n",
       "| m   |  99 | 98  | 83  | 94  | \n",
       "| m   |  NA | NA  | 86  | 77  | \n",
       "| m   |  97 | 97  | 92  | 93  | \n",
       "| m   |  99 | 97  | 95  | 96  | \n",
       "| m   |  89 | 92  | 86  | 94  | \n",
       "| m   |  91 | 97  | 91  | 97  | \n",
       "| m   | 100 | 88  | 96  | 85  | \n",
       "| f   |  86 | 82  | 89  | 87  | \n",
       "| m   |  89 | 88  | 65  | 84  | \n",
       "| m   |  85 | 90  | 83  | 85  | \n",
       "\n",
       "\n"
      ],
      "text/plain": [
       "   gender arch1 prog1 arch2 prog2\n",
       "1  m       99   98    83    94   \n",
       "2  m       NA   NA    86    77   \n",
       "3  m       97   97    92    93   \n",
       "4  m       99   97    95    96   \n",
       "5  m       89   92    86    94   \n",
       "6  m       91   97    91    97   \n",
       "7  m      100   88    96    85   \n",
       "8  f       86   82    89    87   \n",
       "9  m       89   88    65    84   \n",
       "10 m       85   90    83    85   "
      ]
     },
     "metadata": {},
     "output_type": "display_data"
    }
   ],
   "source": [
    "# print the first 10 rows of the data\n",
    "head(results,10)"
   ]
  },
  {
   "cell_type": "code",
   "execution_count": 4,
   "metadata": {},
   "outputs": [
    {
     "data": {
      "text/html": [
       "<table>\n",
       "<thead><tr><th scope=col>arch1</th><th scope=col>arch2</th><th scope=col>prog1</th><th scope=col>prog2</th></tr></thead>\n",
       "<tbody>\n",
       "\t<tr><td> 99</td><td>83 </td><td>98 </td><td>94 </td></tr>\n",
       "\t<tr><td> NA</td><td>86 </td><td>NA </td><td>77 </td></tr>\n",
       "\t<tr><td> 97</td><td>92 </td><td>97 </td><td>93 </td></tr>\n",
       "\t<tr><td> 99</td><td>95 </td><td>97 </td><td>96 </td></tr>\n",
       "\t<tr><td> 89</td><td>86 </td><td>92 </td><td>94 </td></tr>\n",
       "\t<tr><td> 91</td><td>91 </td><td>97 </td><td>97 </td></tr>\n",
       "\t<tr><td>100</td><td>96 </td><td>88 </td><td>85 </td></tr>\n",
       "\t<tr><td> 86</td><td>89 </td><td>82 </td><td>87 </td></tr>\n",
       "\t<tr><td> 89</td><td>65 </td><td>88 </td><td>84 </td></tr>\n",
       "\t<tr><td> 85</td><td>83 </td><td>90 </td><td>85 </td></tr>\n",
       "</tbody>\n",
       "</table>\n"
      ],
      "text/latex": [
       "\\begin{tabular}{llll}\n",
       " arch1 & arch2 & prog1 & prog2\\\\\n",
       "\\hline\n",
       "\t  99 & 83  & 98  & 94 \\\\\n",
       "\t  NA & 86  & NA  & 77 \\\\\n",
       "\t  97 & 92  & 97  & 93 \\\\\n",
       "\t  99 & 95  & 97  & 96 \\\\\n",
       "\t  89 & 86  & 92  & 94 \\\\\n",
       "\t  91 & 91  & 97  & 97 \\\\\n",
       "\t 100 & 96  & 88  & 85 \\\\\n",
       "\t  86 & 89  & 82  & 87 \\\\\n",
       "\t  89 & 65  & 88  & 84 \\\\\n",
       "\t  85 & 83  & 90  & 85 \\\\\n",
       "\\end{tabular}\n"
      ],
      "text/markdown": [
       "\n",
       "arch1 | arch2 | prog1 | prog2 | \n",
       "|---|---|---|---|---|---|---|---|---|---|\n",
       "|  99 | 83  | 98  | 94  | \n",
       "|  NA | 86  | NA  | 77  | \n",
       "|  97 | 92  | 97  | 93  | \n",
       "|  99 | 95  | 97  | 96  | \n",
       "|  89 | 86  | 92  | 94  | \n",
       "|  91 | 91  | 97  | 97  | \n",
       "| 100 | 96  | 88  | 85  | \n",
       "|  86 | 89  | 82  | 87  | \n",
       "|  89 | 65  | 88  | 84  | \n",
       "|  85 | 83  | 90  | 85  | \n",
       "\n",
       "\n"
      ],
      "text/plain": [
       "      arch1 arch2 prog1 prog2\n",
       " [1,]  99   83    98    94   \n",
       " [2,]  NA   86    NA    77   \n",
       " [3,]  97   92    97    93   \n",
       " [4,]  99   95    97    96   \n",
       " [5,]  89   86    92    94   \n",
       " [6,]  91   91    97    97   \n",
       " [7,] 100   96    88    85   \n",
       " [8,]  86   89    82    87   \n",
       " [9,]  89   65    88    84   \n",
       "[10,]  85   83    90    85   "
      ]
     },
     "metadata": {},
     "output_type": "display_data"
    }
   ],
   "source": [
    "# combine all subjects by their columns into one table\n",
    "grades = cbind(arch1, arch2, prog1, prog2)\n",
    "head(grades,10)"
   ]
  },
  {
   "cell_type": "code",
   "execution_count": 6,
   "metadata": {},
   "outputs": [
    {
     "data": {
      "text/html": [
       "<table>\n",
       "<thead><tr><th></th><th scope=col>arch1</th><th scope=col>arch2</th><th scope=col>prog1</th><th scope=col>prog2</th></tr></thead>\n",
       "<tbody>\n",
       "\t<tr><th scope=row>arch1</th><td>561.5625</td><td>296.7734</td><td>317.4788</td><td>429.5946</td></tr>\n",
       "\t<tr><th scope=row>arch2</th><td>296.7734</td><td>471.0505</td><td>326.3879</td><td>444.3063</td></tr>\n",
       "\t<tr><th scope=row>prog1</th><td>317.4788</td><td>326.3879</td><td>481.9776</td><td>462.7113</td></tr>\n",
       "\t<tr><th scope=row>prog2</th><td>429.5946</td><td>444.3063</td><td>462.7113</td><td>740.6957</td></tr>\n",
       "</tbody>\n",
       "</table>\n"
      ],
      "text/latex": [
       "\\begin{tabular}{r|llll}\n",
       "  & arch1 & arch2 & prog1 & prog2\\\\\n",
       "\\hline\n",
       "\tarch1 & 561.5625 & 296.7734 & 317.4788 & 429.5946\\\\\n",
       "\tarch2 & 296.7734 & 471.0505 & 326.3879 & 444.3063\\\\\n",
       "\tprog1 & 317.4788 & 326.3879 & 481.9776 & 462.7113\\\\\n",
       "\tprog2 & 429.5946 & 444.3063 & 462.7113 & 740.6957\\\\\n",
       "\\end{tabular}\n"
      ],
      "text/markdown": [
       "\n",
       "| <!--/--> | arch1 | arch2 | prog1 | prog2 | \n",
       "|---|---|---|---|\n",
       "| arch1 | 561.5625 | 296.7734 | 317.4788 | 429.5946 | \n",
       "| arch2 | 296.7734 | 471.0505 | 326.3879 | 444.3063 | \n",
       "| prog1 | 317.4788 | 326.3879 | 481.9776 | 462.7113 | \n",
       "| prog2 | 429.5946 | 444.3063 | 462.7113 | 740.6957 | \n",
       "\n",
       "\n"
      ],
      "text/plain": [
       "      arch1    arch2    prog1    prog2   \n",
       "arch1 561.5625 296.7734 317.4788 429.5946\n",
       "arch2 296.7734 471.0505 326.3879 444.3063\n",
       "prog1 317.4788 326.3879 481.9776 462.7113\n",
       "prog2 429.5946 444.3063 462.7113 740.6957"
      ]
     },
     "metadata": {},
     "output_type": "display_data"
    }
   ],
   "source": [
    "# get the variance of this table\n",
    "v = var(grades, na.rm=T)\n",
    "v"
   ]
  },
  {
   "cell_type": "code",
   "execution_count": 7,
   "metadata": {},
   "outputs": [
    {
     "data": {
      "text/plain": [
       "eigen() decomposition\n",
       "$values\n",
       "[1] 1732.7452  244.4489  150.4497  127.6425\n",
       "\n",
       "$vectors\n",
       "           [,1]       [,2]        [,3]        [,4]\n",
       "[1,] -0.4625203  0.8795250  0.09154764 -0.06426334\n",
       "[2,] -0.4440854 -0.3360969  0.77413619 -0.30089892\n",
       "[3,] -0.4603986 -0.2245044 -0.60031578 -0.61420834\n",
       "[4,] -0.6139188 -0.2511422 -0.17875446  0.72668987\n"
      ]
     },
     "metadata": {},
     "output_type": "display_data"
    }
   ],
   "source": [
    "# get the eigenvalues from this\n",
    "e = eigen(v)\n",
    "e"
   ]
  },
  {
   "cell_type": "code",
   "execution_count": 16,
   "metadata": {},
   "outputs": [
    {
     "data": {
      "text/html": [
       "<table>\n",
       "<tbody>\n",
       "\t<tr><td>-185.4760 </td><td> 13.568132</td><td> -2.317346</td><td>-23.220251</td></tr>\n",
       "\t<tr><td>       NA </td><td>        NA</td><td>        NA</td><td>        NA</td></tr>\n",
       "\t<tr><td>-187.4734 </td><td>  9.259857</td><td>  5.245855</td><td>-25.912296</td></tr>\n",
       "\t<tr><td>-191.5725 </td><td>  9.257190</td><td>  7.215095</td><td>-24.763450</td></tr>\n",
       "\t<tr><td>-179.4207 </td><td>  5.111618</td><td>  2.691481</td><td>-19.795064</td></tr>\n",
       "\t<tr><td>-186.7099 </td><td>  3.314235</td><td>  3.207415</td><td>-22.319058</td></tr>\n",
       "\t<tr><td>-181.5824 </td><td> 14.583722</td><td> 15.449920</td><td>-27.594326</td></tr>\n",
       "\t<tr><td>-170.4640 </td><td>  5.467792</td><td> 11.993686</td><td>-19.449717</td></tr>\n",
       "\t<tr><td>-162.1141 </td><td> 15.579093</td><td> -9.376571</td><td>-18.286252</td></tr>\n",
       "\t<tr><td>-169.7923 </td><td>  5.311097</td><td>  2.812304</td><td>-23.947106</td></tr>\n",
       "\t<tr><td>-159.4199 </td><td>-28.042016</td><td> -1.648079</td><td>-16.799477</td></tr>\n",
       "\t<tr><td>-152.9143 </td><td> 28.828358</td><td> -5.318841</td><td> -6.313153</td></tr>\n",
       "\t<tr><td>-175.8382 </td><td> 17.401881</td><td>  6.848518</td><td>-11.498439</td></tr>\n",
       "\t<tr><td>-157.1625 </td><td> 26.446403</td><td> -6.176766</td><td> -9.560202</td></tr>\n",
       "\t<tr><td>-160.7354 </td><td> -4.393182</td><td> 18.354996</td><td>-13.074007</td></tr>\n",
       "\t<tr><td>-151.5401 </td><td> -5.706889</td><td>  5.074599</td><td>-22.787521</td></tr>\n",
       "\t<tr><td>-162.0817 </td><td>  1.603777</td><td> 16.195450</td><td>-33.311604</td></tr>\n",
       "\t<tr><td>-166.3961 </td><td> 13.310258</td><td> 13.493037</td><td>-17.062257</td></tr>\n",
       "\t<tr><td>-162.3786 </td><td> 13.870888</td><td>  4.651537</td><td>-19.777650</td></tr>\n",
       "\t<tr><td>-167.8525 </td><td> -2.891900</td><td> 10.280919</td><td>-15.049480</td></tr>\n",
       "\t<tr><td>-145.2922 </td><td>  4.366962</td><td>-11.173579</td><td>-15.272318</td></tr>\n",
       "\t<tr><td>-162.4953 </td><td>  6.780765</td><td> 13.424315</td><td>-25.672981</td></tr>\n",
       "\t<tr><td>-161.6853 </td><td> 18.178134</td><td> 18.829814</td><td>-38.985549</td></tr>\n",
       "\t<tr><td>-112.9688 </td><td>-54.801543</td><td>-22.186543</td><td>-15.250825</td></tr>\n",
       "\t<tr><td>-152.1841 </td><td> 27.194323</td><td>  3.789214</td><td> -5.396622</td></tr>\n",
       "\t<tr><td>       NA </td><td>        NA</td><td>        NA</td><td>        NA</td></tr>\n",
       "\t<tr><td>-146.4198 </td><td>-10.972608</td><td> -0.169560</td><td>-14.691048</td></tr>\n",
       "\t<tr><td>-146.2731 </td><td> 31.123448</td><td>-15.530569</td><td>-21.686756</td></tr>\n",
       "\t<tr><td>-156.6711 </td><td>  5.078977</td><td> 13.778076</td><td>-28.134270</td></tr>\n",
       "\t<tr><td>-189.6777 </td><td>  7.612371</td><td> 12.355987</td><td>-22.466578</td></tr>\n",
       "\t<tr><td>...</td><td>...</td><td>...</td><td>...</td></tr>\n",
       "\t<tr><td> -52.07976</td><td> 27.757934</td><td>  3.433553</td><td>-18.422980</td></tr>\n",
       "\t<tr><td>-133.25531</td><td> 17.865459</td><td>-18.959637</td><td>-21.618971</td></tr>\n",
       "\t<tr><td> -80.24158</td><td> 12.211112</td><td> -2.602124</td><td>-21.550088</td></tr>\n",
       "\t<tr><td>-122.19517</td><td> 42.160253</td><td> -9.663294</td><td>-51.131924</td></tr>\n",
       "\t<tr><td> -37.23621</td><td>  2.301263</td><td>  2.972975</td><td>-23.050596</td></tr>\n",
       "\t<tr><td> -68.48169</td><td> 30.480989</td><td>  5.926106</td><td>-30.725372</td></tr>\n",
       "\t<tr><td>        NA</td><td>        NA</td><td>        NA</td><td>        NA</td></tr>\n",
       "\t<tr><td>-108.31154</td><td> 21.056640</td><td>-23.554257</td><td>-23.967178</td></tr>\n",
       "\t<tr><td> -98.56977</td><td>  3.791168</td><td> 10.035447</td><td> -2.432713</td></tr>\n",
       "\t<tr><td> -94.73630</td><td> 28.993354</td><td>-16.898618</td><td>-19.127341</td></tr>\n",
       "\t<tr><td> -79.27871</td><td> 24.213483</td><td>  9.841813</td><td>-17.655941</td></tr>\n",
       "\t<tr><td>        NA</td><td>        NA</td><td>        NA</td><td>        NA</td></tr>\n",
       "\t<tr><td> -60.05861</td><td> 14.124575</td><td> 14.389960</td><td>-23.051873</td></tr>\n",
       "\t<tr><td> -93.01447</td><td>  3.080372</td><td> -9.308529</td><td>-33.017742</td></tr>\n",
       "\t<tr><td>        NA</td><td>        NA</td><td>        NA</td><td>        NA</td></tr>\n",
       "\t<tr><td>-121.16469</td><td>-18.078489</td><td> -6.440389</td><td> -6.986199</td></tr>\n",
       "\t<tr><td> -53.34253</td><td> 19.462974</td><td> 16.856082</td><td>-25.935287</td></tr>\n",
       "\t<tr><td>        NA</td><td>        NA</td><td>        NA</td><td>        NA</td></tr>\n",
       "\t<tr><td> -43.12858</td><td>  9.786443</td><td> 13.573668</td><td>-18.705785</td></tr>\n",
       "\t<tr><td> -47.44119</td><td> 28.820356</td><td> 13.358751</td><td> -7.567320</td></tr>\n",
       "\t<tr><td> -96.06403</td><td> 46.058072</td><td>  9.197318</td><td>-18.941125</td></tr>\n",
       "\t<tr><td> -85.68791</td><td> -2.619503</td><td> -7.068246</td><td>-51.640687</td></tr>\n",
       "\t<tr><td> -32.30787</td><td> -8.031873</td><td> -7.567296</td><td>-12.665974</td></tr>\n",
       "\t<tr><td> -91.09035</td><td> 19.613093</td><td> 11.226849</td><td>-24.755471</td></tr>\n",
       "\t<tr><td>        NA</td><td>        NA</td><td>        NA</td><td>        NA</td></tr>\n",
       "\t<tr><td> -31.03534</td><td>-10.288548</td><td>  5.283335</td><td>-18.842494</td></tr>\n",
       "\t<tr><td> -35.23065</td><td> -2.149638</td><td>  3.358360</td><td>-20.047483</td></tr>\n",
       "\t<tr><td> -92.68054</td><td> 30.846677</td><td>  9.114057</td><td>-33.745131</td></tr>\n",
       "\t<tr><td> -87.87081</td><td> 14.382858</td><td>  6.173427</td><td>-33.342798</td></tr>\n",
       "\t<tr><td> -68.17901</td><td> 16.948905</td><td>-27.541583</td><td>-32.370026</td></tr>\n",
       "</tbody>\n",
       "</table>\n"
      ],
      "text/latex": [
       "\\begin{tabular}{llll}\n",
       "\t -185.4760  &  13.568132 &  -2.317346 & -23.220251\\\\\n",
       "\t        NA  &         NA &         NA &         NA\\\\\n",
       "\t -187.4734  &   9.259857 &   5.245855 & -25.912296\\\\\n",
       "\t -191.5725  &   9.257190 &   7.215095 & -24.763450\\\\\n",
       "\t -179.4207  &   5.111618 &   2.691481 & -19.795064\\\\\n",
       "\t -186.7099  &   3.314235 &   3.207415 & -22.319058\\\\\n",
       "\t -181.5824  &  14.583722 &  15.449920 & -27.594326\\\\\n",
       "\t -170.4640  &   5.467792 &  11.993686 & -19.449717\\\\\n",
       "\t -162.1141  &  15.579093 &  -9.376571 & -18.286252\\\\\n",
       "\t -169.7923  &   5.311097 &   2.812304 & -23.947106\\\\\n",
       "\t -159.4199  & -28.042016 &  -1.648079 & -16.799477\\\\\n",
       "\t -152.9143  &  28.828358 &  -5.318841 &  -6.313153\\\\\n",
       "\t -175.8382  &  17.401881 &   6.848518 & -11.498439\\\\\n",
       "\t -157.1625  &  26.446403 &  -6.176766 &  -9.560202\\\\\n",
       "\t -160.7354  &  -4.393182 &  18.354996 & -13.074007\\\\\n",
       "\t -151.5401  &  -5.706889 &   5.074599 & -22.787521\\\\\n",
       "\t -162.0817  &   1.603777 &  16.195450 & -33.311604\\\\\n",
       "\t -166.3961  &  13.310258 &  13.493037 & -17.062257\\\\\n",
       "\t -162.3786  &  13.870888 &   4.651537 & -19.777650\\\\\n",
       "\t -167.8525  &  -2.891900 &  10.280919 & -15.049480\\\\\n",
       "\t -145.2922  &   4.366962 & -11.173579 & -15.272318\\\\\n",
       "\t -162.4953  &   6.780765 &  13.424315 & -25.672981\\\\\n",
       "\t -161.6853  &  18.178134 &  18.829814 & -38.985549\\\\\n",
       "\t -112.9688  & -54.801543 & -22.186543 & -15.250825\\\\\n",
       "\t -152.1841  &  27.194323 &   3.789214 &  -5.396622\\\\\n",
       "\t        NA  &         NA &         NA &         NA\\\\\n",
       "\t -146.4198  & -10.972608 &  -0.169560 & -14.691048\\\\\n",
       "\t -146.2731  &  31.123448 & -15.530569 & -21.686756\\\\\n",
       "\t -156.6711  &   5.078977 &  13.778076 & -28.134270\\\\\n",
       "\t -189.6777  &   7.612371 &  12.355987 & -22.466578\\\\\n",
       "\t ... & ... & ... & ...\\\\\n",
       "\t  -52.07976 &  27.757934 &   3.433553 & -18.422980\\\\\n",
       "\t -133.25531 &  17.865459 & -18.959637 & -21.618971\\\\\n",
       "\t  -80.24158 &  12.211112 &  -2.602124 & -21.550088\\\\\n",
       "\t -122.19517 &  42.160253 &  -9.663294 & -51.131924\\\\\n",
       "\t  -37.23621 &   2.301263 &   2.972975 & -23.050596\\\\\n",
       "\t  -68.48169 &  30.480989 &   5.926106 & -30.725372\\\\\n",
       "\t         NA &         NA &         NA &         NA\\\\\n",
       "\t -108.31154 &  21.056640 & -23.554257 & -23.967178\\\\\n",
       "\t  -98.56977 &   3.791168 &  10.035447 &  -2.432713\\\\\n",
       "\t  -94.73630 &  28.993354 & -16.898618 & -19.127341\\\\\n",
       "\t  -79.27871 &  24.213483 &   9.841813 & -17.655941\\\\\n",
       "\t         NA &         NA &         NA &         NA\\\\\n",
       "\t  -60.05861 &  14.124575 &  14.389960 & -23.051873\\\\\n",
       "\t  -93.01447 &   3.080372 &  -9.308529 & -33.017742\\\\\n",
       "\t         NA &         NA &         NA &         NA\\\\\n",
       "\t -121.16469 & -18.078489 &  -6.440389 &  -6.986199\\\\\n",
       "\t  -53.34253 &  19.462974 &  16.856082 & -25.935287\\\\\n",
       "\t         NA &         NA &         NA &         NA\\\\\n",
       "\t  -43.12858 &   9.786443 &  13.573668 & -18.705785\\\\\n",
       "\t  -47.44119 &  28.820356 &  13.358751 &  -7.567320\\\\\n",
       "\t  -96.06403 &  46.058072 &   9.197318 & -18.941125\\\\\n",
       "\t  -85.68791 &  -2.619503 &  -7.068246 & -51.640687\\\\\n",
       "\t  -32.30787 &  -8.031873 &  -7.567296 & -12.665974\\\\\n",
       "\t  -91.09035 &  19.613093 &  11.226849 & -24.755471\\\\\n",
       "\t         NA &         NA &         NA &         NA\\\\\n",
       "\t  -31.03534 & -10.288548 &   5.283335 & -18.842494\\\\\n",
       "\t  -35.23065 &  -2.149638 &   3.358360 & -20.047483\\\\\n",
       "\t  -92.68054 &  30.846677 &   9.114057 & -33.745131\\\\\n",
       "\t  -87.87081 &  14.382858 &   6.173427 & -33.342798\\\\\n",
       "\t  -68.17901 &  16.948905 & -27.541583 & -32.370026\\\\\n",
       "\\end{tabular}\n"
      ],
      "text/markdown": [
       "\n",
       "| -185.4760  |  13.568132 |  -2.317346 | -23.220251 | \n",
       "|        NA  |         NA |         NA |         NA | \n",
       "| -187.4734  |   9.259857 |   5.245855 | -25.912296 | \n",
       "| -191.5725  |   9.257190 |   7.215095 | -24.763450 | \n",
       "| -179.4207  |   5.111618 |   2.691481 | -19.795064 | \n",
       "| -186.7099  |   3.314235 |   3.207415 | -22.319058 | \n",
       "| -181.5824  |  14.583722 |  15.449920 | -27.594326 | \n",
       "| -170.4640  |   5.467792 |  11.993686 | -19.449717 | \n",
       "| -162.1141  |  15.579093 |  -9.376571 | -18.286252 | \n",
       "| -169.7923  |   5.311097 |   2.812304 | -23.947106 | \n",
       "| -159.4199  | -28.042016 |  -1.648079 | -16.799477 | \n",
       "| -152.9143  |  28.828358 |  -5.318841 |  -6.313153 | \n",
       "| -175.8382  |  17.401881 |   6.848518 | -11.498439 | \n",
       "| -157.1625  |  26.446403 |  -6.176766 |  -9.560202 | \n",
       "| -160.7354  |  -4.393182 |  18.354996 | -13.074007 | \n",
       "| -151.5401  |  -5.706889 |   5.074599 | -22.787521 | \n",
       "| -162.0817  |   1.603777 |  16.195450 | -33.311604 | \n",
       "| -166.3961  |  13.310258 |  13.493037 | -17.062257 | \n",
       "| -162.3786  |  13.870888 |   4.651537 | -19.777650 | \n",
       "| -167.8525  |  -2.891900 |  10.280919 | -15.049480 | \n",
       "| -145.2922  |   4.366962 | -11.173579 | -15.272318 | \n",
       "| -162.4953  |   6.780765 |  13.424315 | -25.672981 | \n",
       "| -161.6853  |  18.178134 |  18.829814 | -38.985549 | \n",
       "| -112.9688  | -54.801543 | -22.186543 | -15.250825 | \n",
       "| -152.1841  |  27.194323 |   3.789214 |  -5.396622 | \n",
       "|        NA  |         NA |         NA |         NA | \n",
       "| -146.4198  | -10.972608 |  -0.169560 | -14.691048 | \n",
       "| -146.2731  |  31.123448 | -15.530569 | -21.686756 | \n",
       "| -156.6711  |   5.078977 |  13.778076 | -28.134270 | \n",
       "| -189.6777  |   7.612371 |  12.355987 | -22.466578 | \n",
       "| ... | ... | ... | ... | \n",
       "|  -52.07976 |  27.757934 |   3.433553 | -18.422980 | \n",
       "| -133.25531 |  17.865459 | -18.959637 | -21.618971 | \n",
       "|  -80.24158 |  12.211112 |  -2.602124 | -21.550088 | \n",
       "| -122.19517 |  42.160253 |  -9.663294 | -51.131924 | \n",
       "|  -37.23621 |   2.301263 |   2.972975 | -23.050596 | \n",
       "|  -68.48169 |  30.480989 |   5.926106 | -30.725372 | \n",
       "|         NA |         NA |         NA |         NA | \n",
       "| -108.31154 |  21.056640 | -23.554257 | -23.967178 | \n",
       "|  -98.56977 |   3.791168 |  10.035447 |  -2.432713 | \n",
       "|  -94.73630 |  28.993354 | -16.898618 | -19.127341 | \n",
       "|  -79.27871 |  24.213483 |   9.841813 | -17.655941 | \n",
       "|         NA |         NA |         NA |         NA | \n",
       "|  -60.05861 |  14.124575 |  14.389960 | -23.051873 | \n",
       "|  -93.01447 |   3.080372 |  -9.308529 | -33.017742 | \n",
       "|         NA |         NA |         NA |         NA | \n",
       "| -121.16469 | -18.078489 |  -6.440389 |  -6.986199 | \n",
       "|  -53.34253 |  19.462974 |  16.856082 | -25.935287 | \n",
       "|         NA |         NA |         NA |         NA | \n",
       "|  -43.12858 |   9.786443 |  13.573668 | -18.705785 | \n",
       "|  -47.44119 |  28.820356 |  13.358751 |  -7.567320 | \n",
       "|  -96.06403 |  46.058072 |   9.197318 | -18.941125 | \n",
       "|  -85.68791 |  -2.619503 |  -7.068246 | -51.640687 | \n",
       "|  -32.30787 |  -8.031873 |  -7.567296 | -12.665974 | \n",
       "|  -91.09035 |  19.613093 |  11.226849 | -24.755471 | \n",
       "|         NA |         NA |         NA |         NA | \n",
       "|  -31.03534 | -10.288548 |   5.283335 | -18.842494 | \n",
       "|  -35.23065 |  -2.149638 |   3.358360 | -20.047483 | \n",
       "|  -92.68054 |  30.846677 |   9.114057 | -33.745131 | \n",
       "|  -87.87081 |  14.382858 |   6.173427 | -33.342798 | \n",
       "|  -68.17901 |  16.948905 | -27.541583 | -32.370026 | \n",
       "\n",
       "\n"
      ],
      "text/plain": [
       "      [,1]       [,2]       [,3]       [,4]      \n",
       " [1,] -185.4760   13.568132  -2.317346 -23.220251\n",
       " [2,]        NA          NA         NA         NA\n",
       " [3,] -187.4734    9.259857   5.245855 -25.912296\n",
       " [4,] -191.5725    9.257190   7.215095 -24.763450\n",
       " [5,] -179.4207    5.111618   2.691481 -19.795064\n",
       " [6,] -186.7099    3.314235   3.207415 -22.319058\n",
       " [7,] -181.5824   14.583722  15.449920 -27.594326\n",
       " [8,] -170.4640    5.467792  11.993686 -19.449717\n",
       " [9,] -162.1141   15.579093  -9.376571 -18.286252\n",
       "[10,] -169.7923    5.311097   2.812304 -23.947106\n",
       "[11,] -159.4199  -28.042016  -1.648079 -16.799477\n",
       "[12,] -152.9143   28.828358  -5.318841  -6.313153\n",
       "[13,] -175.8382   17.401881   6.848518 -11.498439\n",
       "[14,] -157.1625   26.446403  -6.176766  -9.560202\n",
       "[15,] -160.7354   -4.393182  18.354996 -13.074007\n",
       "[16,] -151.5401   -5.706889   5.074599 -22.787521\n",
       "[17,] -162.0817    1.603777  16.195450 -33.311604\n",
       "[18,] -166.3961   13.310258  13.493037 -17.062257\n",
       "[19,] -162.3786   13.870888   4.651537 -19.777650\n",
       "[20,] -167.8525   -2.891900  10.280919 -15.049480\n",
       "[21,] -145.2922    4.366962 -11.173579 -15.272318\n",
       "[22,] -162.4953    6.780765  13.424315 -25.672981\n",
       "[23,] -161.6853   18.178134  18.829814 -38.985549\n",
       "[24,] -112.9688  -54.801543 -22.186543 -15.250825\n",
       "[25,] -152.1841   27.194323   3.789214  -5.396622\n",
       "[26,]        NA          NA         NA         NA\n",
       "[27,] -146.4198  -10.972608  -0.169560 -14.691048\n",
       "[28,] -146.2731   31.123448 -15.530569 -21.686756\n",
       "[29,] -156.6711    5.078977  13.778076 -28.134270\n",
       "[30,] -189.6777    7.612371  12.355987 -22.466578\n",
       "[31,] ...        ...        ...        ...       \n",
       "[32,]  -52.07976  27.757934   3.433553 -18.422980\n",
       "[33,] -133.25531  17.865459 -18.959637 -21.618971\n",
       "[34,]  -80.24158  12.211112  -2.602124 -21.550088\n",
       "[35,] -122.19517  42.160253  -9.663294 -51.131924\n",
       "[36,]  -37.23621   2.301263   2.972975 -23.050596\n",
       "[37,]  -68.48169  30.480989   5.926106 -30.725372\n",
       "[38,]         NA         NA         NA         NA\n",
       "[39,] -108.31154  21.056640 -23.554257 -23.967178\n",
       "[40,]  -98.56977   3.791168  10.035447  -2.432713\n",
       "[41,]  -94.73630  28.993354 -16.898618 -19.127341\n",
       "[42,]  -79.27871  24.213483   9.841813 -17.655941\n",
       "[43,]         NA         NA         NA         NA\n",
       "[44,]  -60.05861  14.124575  14.389960 -23.051873\n",
       "[45,]  -93.01447   3.080372  -9.308529 -33.017742\n",
       "[46,]         NA         NA         NA         NA\n",
       "[47,] -121.16469 -18.078489  -6.440389  -6.986199\n",
       "[48,]  -53.34253  19.462974  16.856082 -25.935287\n",
       "[49,]         NA         NA         NA         NA\n",
       "[50,]  -43.12858   9.786443  13.573668 -18.705785\n",
       "[51,]  -47.44119  28.820356  13.358751  -7.567320\n",
       "[52,]  -96.06403  46.058072   9.197318 -18.941125\n",
       "[53,]  -85.68791  -2.619503  -7.068246 -51.640687\n",
       "[54,]  -32.30787  -8.031873  -7.567296 -12.665974\n",
       "[55,]  -91.09035  19.613093  11.226849 -24.755471\n",
       "[56,]         NA         NA         NA         NA\n",
       "[57,]  -31.03534 -10.288548   5.283335 -18.842494\n",
       "[58,]  -35.23065  -2.149638   3.358360 -20.047483\n",
       "[59,]  -92.68054  30.846677   9.114057 -33.745131\n",
       "[60,]  -87.87081  14.382858   6.173427 -33.342798\n",
       "[61,]  -68.17901  16.948905 -27.541583 -32.370026"
      ]
     },
     "metadata": {},
     "output_type": "display_data"
    }
   ],
   "source": [
    "# crate a new matrix using these evectors\n",
    "p = grades %*% e$vectors\n",
    "p"
   ]
  },
  {
   "cell_type": "code",
   "execution_count": 17,
   "metadata": {},
   "outputs": [
    {
     "data": {
      "image/png": "[encoded data removed]",
      "text/plain": [
       "plot without title"
      ]
     },
     "metadata": {},
     "output_type": "display_data"
    }
   ],
   "source": [
    "# plot its points\n",
    "plot(p[,1], p[,2])"
   ]
  },
  {
   "cell_type": "code",
   "execution_count": 18,
   "metadata": {},
   "outputs": [
    {
     "ename": "ERROR",
     "evalue": "Error in identify.default(p[, 1], p[, 2], n = 5): plot.new has not been called yet\n",
     "output_type": "error",
     "traceback": [
      "Error in identify.default(p[, 1], p[, 2], n = 5): plot.new has not been called yet\nTraceback:\n",
      "1. identify(p[, 1], p[, 2], n = 5)",
      "2. identify.default(p[, 1], p[, 2], n = 5)"
     ]
    }
   ],
   "source": [
    "# identify 5 points from the plot - doesn't work in jupyter notebook\n",
    "group = identify(p[,1], p[,2], n=5)"
   ]
  },
  {
   "cell_type": "code",
   "execution_count": 19,
   "metadata": {},
   "outputs": [
    {
     "ename": "ERROR",
     "evalue": "Error in `[.data.frame`(results, group, ): object 'group' not found\n",
     "output_type": "error",
     "traceback": [
      "Error in `[.data.frame`(results, group, ): object 'group' not found\nTraceback:\n",
      "1. results[group, ]",
      "2. `[.data.frame`(results, group, )"
     ]
    }
   ],
   "source": [
    "# output these points\n",
    "results[group,]"
   ]
  },
  {
   "cell_type": "code",
   "execution_count": null,
   "metadata": {},
   "outputs": [],
   "source": []
  }
 ],
 "metadata": {
  "kernelspec": {
   "display_name": "R",
   "language": "R",
   "name": "ir"
  },
  "language_info": {
   "codemirror_mode": "r",
   "file_extension": ".r",
   "mimetype": "text/x-r-source",
   "name": "R",
   "pygments_lexer": "r",
   "version": "3.5.1"
  }
 },
 "nbformat": 4,
 "nbformat_minor": 2
}
