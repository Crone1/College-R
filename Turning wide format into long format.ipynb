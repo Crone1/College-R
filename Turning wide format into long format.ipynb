{
 "cells": [
  {
   "cell_type": "code",
   "execution_count": 1,
   "metadata": {},
   "outputs": [],
   "source": [
    "#Read in data into table\n",
    "results = read.table(\"Results.txt\", header = T)"
   ]
  },
  {
   "cell_type": "code",
   "execution_count": 3,
   "metadata": {},
   "outputs": [
    {
     "data": {
      "text/html": [
       "<table>\n",
       "<thead><tr><th scope=col>gender</th><th scope=col>arch1</th><th scope=col>prog1</th><th scope=col>arch2</th><th scope=col>prog2</th></tr></thead>\n",
       "<tbody>\n",
       "\t<tr><td>m </td><td>99</td><td>98</td><td>83</td><td>94</td></tr>\n",
       "\t<tr><td>m </td><td>NA</td><td>NA</td><td>86</td><td>77</td></tr>\n",
       "\t<tr><td>m </td><td>97</td><td>97</td><td>92</td><td>93</td></tr>\n",
       "\t<tr><td>m </td><td>99</td><td>97</td><td>95</td><td>96</td></tr>\n",
       "\t<tr><td>m </td><td>89</td><td>92</td><td>86</td><td>94</td></tr>\n",
       "\t<tr><td>m </td><td>91</td><td>97</td><td>91</td><td>97</td></tr>\n",
       "</tbody>\n",
       "</table>\n"
      ],
      "text/latex": [
       "\\begin{tabular}{r|lllll}\n",
       " gender & arch1 & prog1 & arch2 & prog2\\\\\n",
       "\\hline\n",
       "\t m  & 99 & 98 & 83 & 94\\\\\n",
       "\t m  & NA & NA & 86 & 77\\\\\n",
       "\t m  & 97 & 97 & 92 & 93\\\\\n",
       "\t m  & 99 & 97 & 95 & 96\\\\\n",
       "\t m  & 89 & 92 & 86 & 94\\\\\n",
       "\t m  & 91 & 97 & 91 & 97\\\\\n",
       "\\end{tabular}\n"
      ],
      "text/markdown": [
       "\n",
       "gender | arch1 | prog1 | arch2 | prog2 | \n",
       "|---|---|---|---|---|---|\n",
       "| m  | 99 | 98 | 83 | 94 | \n",
       "| m  | NA | NA | 86 | 77 | \n",
       "| m  | 97 | 97 | 92 | 93 | \n",
       "| m  | 99 | 97 | 95 | 96 | \n",
       "| m  | 89 | 92 | 86 | 94 | \n",
       "| m  | 91 | 97 | 91 | 97 | \n",
       "\n",
       "\n"
      ],
      "text/plain": [
       "  gender arch1 prog1 arch2 prog2\n",
       "1 m      99    98    83    94   \n",
       "2 m      NA    NA    86    77   \n",
       "3 m      97    97    92    93   \n",
       "4 m      99    97    95    96   \n",
       "5 m      89    92    86    94   \n",
       "6 m      91    97    91    97   "
      ]
     },
     "metadata": {},
     "output_type": "display_data"
    }
   ],
   "source": [
    "head(results)"
   ]
  },
  {
   "cell_type": "code",
   "execution_count": 4,
   "metadata": {},
   "outputs": [],
   "source": [
    "attach(results)"
   ]
  },
  {
   "cell_type": "code",
   "execution_count": 5,
   "metadata": {},
   "outputs": [],
   "source": [
    "# Create vector of the genders repeated 4 times\n",
    "genders = rep(gender, 4)"
   ]
  },
  {
   "cell_type": "code",
   "execution_count": 6,
   "metadata": {},
   "outputs": [],
   "source": [
    "#create vector of all grades combined\n",
    "grades = c(arch1, arch2, prog1, prog2)"
   ]
  },
  {
   "cell_type": "code",
   "execution_count": 7,
   "metadata": {},
   "outputs": [],
   "source": [
    "#create programme labels\n",
    "architechture = rep(\"Arch\", 238)\n",
    "programming = rep(\"Prog\", 238)"
   ]
  },
  {
   "cell_type": "code",
   "execution_count": 8,
   "metadata": {},
   "outputs": [],
   "source": [
    "# merge programme labels into a vector\n",
    "subs = c(architechture, programming)"
   ]
  },
  {
   "cell_type": "code",
   "execution_count": 9,
   "metadata": {},
   "outputs": [],
   "source": [
    "# create semester column\n",
    "one = rep(1, 119)\n",
    "two = rep(2, 119)\n",
    "sem = c(one,two,one,two)"
   ]
  },
  {
   "cell_type": "code",
   "execution_count": 10,
   "metadata": {},
   "outputs": [],
   "source": [
    "# merge into final dataframe\n",
    "final_df = data.frame(Gender=genders, Grades=grades, Subject=subs, Semester=sem)"
   ]
  },
  {
   "cell_type": "code",
   "execution_count": 11,
   "metadata": {},
   "outputs": [
    {
     "data": {
      "text/html": [
       "<table>\n",
       "<thead><tr><th scope=col>Gender</th><th scope=col>Grades</th><th scope=col>Subject</th><th scope=col>Semester</th></tr></thead>\n",
       "<tbody>\n",
       "\t<tr><td>m   </td><td>99  </td><td>Arch</td><td>1   </td></tr>\n",
       "\t<tr><td>m   </td><td>NA  </td><td>Arch</td><td>1   </td></tr>\n",
       "\t<tr><td>m   </td><td>97  </td><td>Arch</td><td>1   </td></tr>\n",
       "\t<tr><td>m   </td><td>99  </td><td>Arch</td><td>1   </td></tr>\n",
       "\t<tr><td>m   </td><td>89  </td><td>Arch</td><td>1   </td></tr>\n",
       "\t<tr><td>m   </td><td>91  </td><td>Arch</td><td>1   </td></tr>\n",
       "</tbody>\n",
       "</table>\n"
      ],
      "text/latex": [
       "\\begin{tabular}{r|llll}\n",
       " Gender & Grades & Subject & Semester\\\\\n",
       "\\hline\n",
       "\t m    & 99   & Arch & 1   \\\\\n",
       "\t m    & NA   & Arch & 1   \\\\\n",
       "\t m    & 97   & Arch & 1   \\\\\n",
       "\t m    & 99   & Arch & 1   \\\\\n",
       "\t m    & 89   & Arch & 1   \\\\\n",
       "\t m    & 91   & Arch & 1   \\\\\n",
       "\\end{tabular}\n"
      ],
      "text/markdown": [
       "\n",
       "Gender | Grades | Subject | Semester | \n",
       "|---|---|---|---|---|---|\n",
       "| m    | 99   | Arch | 1    | \n",
       "| m    | NA   | Arch | 1    | \n",
       "| m    | 97   | Arch | 1    | \n",
       "| m    | 99   | Arch | 1    | \n",
       "| m    | 89   | Arch | 1    | \n",
       "| m    | 91   | Arch | 1    | \n",
       "\n",
       "\n"
      ],
      "text/plain": [
       "  Gender Grades Subject Semester\n",
       "1 m      99     Arch    1       \n",
       "2 m      NA     Arch    1       \n",
       "3 m      97     Arch    1       \n",
       "4 m      99     Arch    1       \n",
       "5 m      89     Arch    1       \n",
       "6 m      91     Arch    1       "
      ]
     },
     "metadata": {},
     "output_type": "display_data"
    }
   ],
   "source": [
    "# show final dataframe\n",
    "head(final_df)"
   ]
  },
  {
   "cell_type": "code",
   "execution_count": 12,
   "metadata": {},
   "outputs": [
    {
     "data": {
      "text/html": [
       "<table>\n",
       "<thead><tr><th scope=col>Group.1</th><th scope=col>x</th></tr></thead>\n",
       "<tbody>\n",
       "\t<tr><td>1       </td><td>61.28326</td></tr>\n",
       "\t<tr><td>2       </td><td>52.86283</td></tr>\n",
       "</tbody>\n",
       "</table>\n"
      ],
      "text/latex": [
       "\\begin{tabular}{r|ll}\n",
       " Group.1 & x\\\\\n",
       "\\hline\n",
       "\t 1        & 61.28326\\\\\n",
       "\t 2        & 52.86283\\\\\n",
       "\\end{tabular}\n"
      ],
      "text/markdown": [
       "\n",
       "Group.1 | x | \n",
       "|---|---|\n",
       "| 1        | 61.28326 | \n",
       "| 2        | 52.86283 | \n",
       "\n",
       "\n"
      ],
      "text/plain": [
       "  Group.1 x       \n",
       "1 1       61.28326\n",
       "2 2       52.86283"
      ]
     },
     "metadata": {},
     "output_type": "display_data"
    }
   ],
   "source": [
    "# get mean of different semesters\n",
    "aggregate(grades, list(sem), mean, na.rm=T)"
   ]
  },
  {
   "cell_type": "code",
   "execution_count": 13,
   "metadata": {},
   "outputs": [
    {
     "data": {
      "text/html": [
       "<table>\n",
       "<thead><tr><th scope=col>Group.1</th><th scope=col>x</th></tr></thead>\n",
       "<tbody>\n",
       "\t<tr><td>Arch    </td><td>57.79654</td></tr>\n",
       "\t<tr><td>Prog    </td><td>56.46930</td></tr>\n",
       "</tbody>\n",
       "</table>\n"
      ],
      "text/latex": [
       "\\begin{tabular}{r|ll}\n",
       " Group.1 & x\\\\\n",
       "\\hline\n",
       "\t Arch     & 57.79654\\\\\n",
       "\t Prog     & 56.46930\\\\\n",
       "\\end{tabular}\n"
      ],
      "text/markdown": [
       "\n",
       "Group.1 | x | \n",
       "|---|---|\n",
       "| Arch     | 57.79654 | \n",
       "| Prog     | 56.46930 | \n",
       "\n",
       "\n"
      ],
      "text/plain": [
       "  Group.1 x       \n",
       "1 Arch    57.79654\n",
       "2 Prog    56.46930"
      ]
     },
     "metadata": {},
     "output_type": "display_data"
    }
   ],
   "source": [
    "# get mean of different subjects\n",
    "aggregate(grades, list(subs), mean, na.rm=T)"
   ]
  },
  {
   "cell_type": "code",
   "execution_count": 14,
   "metadata": {},
   "outputs": [
    {
     "data": {
      "text/html": [
       "<table>\n",
       "<thead><tr><th scope=col>Group.1</th><th scope=col>Group.2</th><th scope=col>Group.3</th><th scope=col>x</th></tr></thead>\n",
       "<tbody>\n",
       "\t<tr><td>Arch    </td><td>1       </td><td>f       </td><td>59.41176</td></tr>\n",
       "\t<tr><td>Prog    </td><td>1       </td><td>f       </td><td>44.88889</td></tr>\n",
       "\t<tr><td>Arch    </td><td>2       </td><td>f       </td><td>48.05882</td></tr>\n",
       "\t<tr><td>Prog    </td><td>2       </td><td>f       </td><td>53.00000</td></tr>\n",
       "\t<tr><td>Arch    </td><td>1       </td><td>m       </td><td>64.28283</td></tr>\n",
       "\t<tr><td>Prog    </td><td>1       </td><td>m       </td><td>61.58586</td></tr>\n",
       "\t<tr><td>Arch    </td><td>2       </td><td>m       </td><td>52.65306</td></tr>\n",
       "\t<tr><td>Prog    </td><td>2       </td><td>m       </td><td>53.90625</td></tr>\n",
       "</tbody>\n",
       "</table>\n"
      ],
      "text/latex": [
       "\\begin{tabular}{r|llll}\n",
       " Group.1 & Group.2 & Group.3 & x\\\\\n",
       "\\hline\n",
       "\t Arch     & 1        & f        & 59.41176\\\\\n",
       "\t Prog     & 1        & f        & 44.88889\\\\\n",
       "\t Arch     & 2        & f        & 48.05882\\\\\n",
       "\t Prog     & 2        & f        & 53.00000\\\\\n",
       "\t Arch     & 1        & m        & 64.28283\\\\\n",
       "\t Prog     & 1        & m        & 61.58586\\\\\n",
       "\t Arch     & 2        & m        & 52.65306\\\\\n",
       "\t Prog     & 2        & m        & 53.90625\\\\\n",
       "\\end{tabular}\n"
      ],
      "text/markdown": [
       "\n",
       "Group.1 | Group.2 | Group.3 | x | \n",
       "|---|---|---|---|---|---|---|---|\n",
       "| Arch     | 1        | f        | 59.41176 | \n",
       "| Prog     | 1        | f        | 44.88889 | \n",
       "| Arch     | 2        | f        | 48.05882 | \n",
       "| Prog     | 2        | f        | 53.00000 | \n",
       "| Arch     | 1        | m        | 64.28283 | \n",
       "| Prog     | 1        | m        | 61.58586 | \n",
       "| Arch     | 2        | m        | 52.65306 | \n",
       "| Prog     | 2        | m        | 53.90625 | \n",
       "\n",
       "\n"
      ],
      "text/plain": [
       "  Group.1 Group.2 Group.3 x       \n",
       "1 Arch    1       f       59.41176\n",
       "2 Prog    1       f       44.88889\n",
       "3 Arch    2       f       48.05882\n",
       "4 Prog    2       f       53.00000\n",
       "5 Arch    1       m       64.28283\n",
       "6 Prog    1       m       61.58586\n",
       "7 Arch    2       m       52.65306\n",
       "8 Prog    2       m       53.90625"
      ]
     },
     "metadata": {},
     "output_type": "display_data"
    }
   ],
   "source": [
    "# get mean of different subjects, semesters and genders\n",
    "aggregate(grades, list(subs,sem, genders), mean, na.rm=T)"
   ]
  },
  {
   "cell_type": "code",
   "execution_count": 15,
   "metadata": {},
   "outputs": [
    {
     "data": {
      "text/html": [
       "<table>\n",
       "<thead><tr><th scope=col>Group.1</th><th scope=col>Group.2</th><th scope=col>Group.3</th><th scope=col>x</th></tr></thead>\n",
       "<tbody>\n",
       "\t<tr><td>f   </td><td>1   </td><td>Arch</td><td>13  </td></tr>\n",
       "\t<tr><td>m   </td><td>1   </td><td>Arch</td><td>84  </td></tr>\n",
       "\t<tr><td>f   </td><td>2   </td><td>Arch</td><td>10  </td></tr>\n",
       "\t<tr><td>m   </td><td>2   </td><td>Arch</td><td>68  </td></tr>\n",
       "\t<tr><td>f   </td><td>1   </td><td>Prog</td><td> 9  </td></tr>\n",
       "\t<tr><td>m   </td><td>1   </td><td>Prog</td><td>74  </td></tr>\n",
       "\t<tr><td>f   </td><td>2   </td><td>Prog</td><td>11  </td></tr>\n",
       "\t<tr><td>m   </td><td>2   </td><td>Prog</td><td>66  </td></tr>\n",
       "</tbody>\n",
       "</table>\n"
      ],
      "text/latex": [
       "\\begin{tabular}{r|llll}\n",
       " Group.1 & Group.2 & Group.3 & x\\\\\n",
       "\\hline\n",
       "\t f    & 1    & Arch & 13  \\\\\n",
       "\t m    & 1    & Arch & 84  \\\\\n",
       "\t f    & 2    & Arch & 10  \\\\\n",
       "\t m    & 2    & Arch & 68  \\\\\n",
       "\t f    & 1    & Prog &  9  \\\\\n",
       "\t m    & 1    & Prog & 74  \\\\\n",
       "\t f    & 2    & Prog & 11  \\\\\n",
       "\t m    & 2    & Prog & 66  \\\\\n",
       "\\end{tabular}\n"
      ],
      "text/markdown": [
       "\n",
       "Group.1 | Group.2 | Group.3 | x | \n",
       "|---|---|---|---|---|---|---|---|\n",
       "| f    | 1    | Arch | 13   | \n",
       "| m    | 1    | Arch | 84   | \n",
       "| f    | 2    | Arch | 10   | \n",
       "| m    | 2    | Arch | 68   | \n",
       "| f    | 1    | Prog |  9   | \n",
       "| m    | 1    | Prog | 74   | \n",
       "| f    | 2    | Prog | 11   | \n",
       "| m    | 2    | Prog | 66   | \n",
       "\n",
       "\n"
      ],
      "text/plain": [
       "  Group.1 Group.2 Group.3 x \n",
       "1 f       1       Arch    13\n",
       "2 m       1       Arch    84\n",
       "3 f       2       Arch    10\n",
       "4 m       2       Arch    68\n",
       "5 f       1       Prog     9\n",
       "6 m       1       Prog    74\n",
       "7 f       2       Prog    11\n",
       "8 m       2       Prog    66"
      ]
     },
     "metadata": {},
     "output_type": "display_data"
    }
   ],
   "source": [
    "# sum up the grades of different genders, subjects and semesters where the students passed\n",
    "aggregate(grades>40, list(genders, sem, subs), sum, na.rm=T)"
   ]
  },
  {
   "cell_type": "code",
   "execution_count": 16,
   "metadata": {},
   "outputs": [
    {
     "data": {
      "image/png": "[encoded data removed]",
      "text/plain": [
       "plot without title"
      ]
     },
     "metadata": {},
     "output_type": "display_data"
    }
   ],
   "source": [
    "# draw a scatter plot comparing the 2 subjects\n",
    "plot(arch1, arch2)"
   ]
  },
  {
   "cell_type": "code",
   "execution_count": null,
   "metadata": {},
   "outputs": [],
   "source": []
  }
 ],
 "metadata": {
  "kernelspec": {
   "display_name": "R",
   "language": "R",
   "name": "ir"
  },
  "language_info": {
   "codemirror_mode": "r",
   "file_extension": ".r",
   "mimetype": "text/x-r-source",
   "name": "R",
   "pygments_lexer": "r",
   "version": "3.5.1"
  }
 },
 "nbformat": 4,
 "nbformat_minor": 2
}
