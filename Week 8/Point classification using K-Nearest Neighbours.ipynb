{
 "cells": [
  {
   "cell_type": "code",
   "execution_count": 1,
   "metadata": {},
   "outputs": [],
   "source": [
    "#Read in Data\n",
    "d0=scan(\"Zl0d.dat\",nlines=1000,n=256000)\n",
    "d1=scan(\"Zl1d.dat\",nlines=1000,n=256000)\n",
    "d2=scan(\"Zl2d.dat\",nlines=1000,n=256000)\n",
    "d3=scan(\"Zl3d.dat\",nlines=1000,n=256000)\n",
    "d4=scan(\"Zl4d.dat\",nlines=1000,n=256000)\n",
    "d5=scan(\"Zl5d.dat\",nlines=1000,n=256000)\n",
    "d6=scan(\"Zl6d.dat\",nlines=1000,n=256000)\n",
    "d7=scan(\"Zl7d.dat\",nlines=1000,n=256000)\n",
    "d8=scan(\"Zl8d.dat\",nlines=1000,n=256000)\n",
    "d9=scan(\"Zl9d.dat\",nlines=1000,n=256000)"
   ]
  },
  {
   "cell_type": "code",
   "execution_count": 2,
   "metadata": {},
   "outputs": [
    {
     "data": {
      "text/html": [
       "<ol class=list-inline>\n",
       "\t<li>10000</li>\n",
       "\t<li>256</li>\n",
       "</ol>\n"
      ],
      "text/latex": [
       "\\begin{enumerate*}\n",
       "\\item 10000\n",
       "\\item 256\n",
       "\\end{enumerate*}\n"
      ],
      "text/markdown": [
       "1. 10000\n",
       "2. 256\n",
       "\n",
       "\n"
      ],
      "text/plain": [
       "[1] 10000   256"
      ]
     },
     "metadata": {},
     "output_type": "display_data"
    }
   ],
   "source": [
    "# Join Data\n",
    "d=c(d0,d1,d2,d3,d4,d5,d6,d7,d8,d9)\n",
    "d=matrix(d,256,10000)\n",
    "d=t(d)\n",
    "dim(d)"
   ]
  },
  {
   "cell_type": "code",
   "execution_count": 3,
   "metadata": {},
   "outputs": [],
   "source": [
    "# classes = c(rep(\"one\", 1000), rep(\"two\", 1000), rep(\"three\", 1000), rep(\"four\", 1000), rep(\"five\", 1000), rep(\"six\", 1000), rep(\"seven\",1000), rep(\"eight\", 1000), rep(\"nine\", 1000))\n",
    "# img_nd_class = cbind(d, classes)\n",
    "# dim(img_nd_class)"
   ]
  },
  {
   "cell_type": "code",
   "execution_count": 4,
   "metadata": {},
   "outputs": [],
   "source": [
    "#Create Distance Function\n",
    "dist = function(a,b)\n",
    "{\n",
    "    sum((a-b)^2)\n",
    "}"
   ]
  },
  {
   "cell_type": "code",
   "execution_count": 5,
   "metadata": {},
   "outputs": [],
   "source": [
    "# Create KNN function\n",
    "knn = function(data, k, point, dis)\n",
    "{\n",
    "    dists = apply(data, 1 , dis, point)\n",
    "    dists_ind = order(dists)\n",
    "    smallest_ind = dists_ind[2:k + 1]\n",
    "    t = table(as.integer((smallest_ind-1)/1000))\n",
    "    class = names(which.max(t))\n",
    "    class\n",
    "}"
   ]
  },
  {
   "cell_type": "code",
   "execution_count": 6,
   "metadata": {},
   "outputs": [
    {
     "data": {
      "text/html": [
       "'2'"
      ],
      "text/latex": [
       "'2'"
      ],
      "text/markdown": [
       "'2'"
      ],
      "text/plain": [
       "[1] \"2\""
      ]
     },
     "metadata": {},
     "output_type": "display_data"
    }
   ],
   "source": [
    "# output the class of the nearest neighbours to the value \"2001\"\n",
    "knn(d, 6, d[2001,], dist)"
   ]
  },
  {
   "cell_type": "code",
   "execution_count": 7,
   "metadata": {},
   "outputs": [
    {
     "data": {
      "text/plain": [
       "class0\n",
       "  0   1   2   6   7   8   9 \n",
       "975  10   2   5   2   3   3 "
      ]
     },
     "metadata": {},
     "output_type": "display_data"
    }
   ],
   "source": [
    "#Get classifications for 0's\n",
    "class0 = NULL\n",
    "for (i in c(1:1000))\n",
    "{\n",
    "    class0 = cbind(class0, knn(d, 6, d[i,], dist))\n",
    "}\n",
    "table(class0)"
   ]
  },
  {
   "cell_type": "code",
   "execution_count": 8,
   "metadata": {},
   "outputs": [
    {
     "data": {
      "text/plain": [
       "class1\n",
       "  0   1   4   7   8 \n",
       "  3 993   1   1   2 "
      ]
     },
     "metadata": {},
     "output_type": "display_data"
    }
   ],
   "source": [
    "#Get classifications for 1's\n",
    "class1 = NULL\n",
    "for (i in c(1001:2000))\n",
    "{\n",
    "    class1 = cbind(class1, knn(d, 6, d[i,], dist))\n",
    "}\n",
    "table(class1)"
   ]
  },
  {
   "cell_type": "code",
   "execution_count": 9,
   "metadata": {},
   "outputs": [
    {
     "data": {
      "text/plain": [
       "class2\n",
       "  0   1   2   7   8 \n",
       "  1   1 991   3   4 "
      ]
     },
     "metadata": {},
     "output_type": "display_data"
    }
   ],
   "source": [
    "#Get classifications for 2's\n",
    "class2 = NULL\n",
    "for (i in c(2001:3000))\n",
    "{\n",
    "    class2 = cbind(class2, knn(d, 6, d[i,], dist))\n",
    "}\n",
    "table(class2)"
   ]
  },
  {
   "cell_type": "code",
   "execution_count": 10,
   "metadata": {},
   "outputs": [
    {
     "data": {
      "text/plain": [
       "class3\n",
       "  2   3   5   7   8   9 \n",
       "  4 982   6   1   2   5 "
      ]
     },
     "metadata": {},
     "output_type": "display_data"
    }
   ],
   "source": [
    "#Get classifications for 3's\n",
    "class3 = NULL\n",
    "for (i in c(3001:4000))\n",
    "{\n",
    "    class3 = cbind(class3, knn(d, 6, d[i,], dist))\n",
    "}\n",
    "table(class3)"
   ]
  },
  {
   "cell_type": "code",
   "execution_count": 11,
   "metadata": {},
   "outputs": [
    {
     "data": {
      "text/plain": [
       "class4\n",
       "  0   1   2   4   5   6   7   9 \n",
       "  2   6   2 981   1   2   4   2 "
      ]
     },
     "metadata": {},
     "output_type": "display_data"
    }
   ],
   "source": [
    "#Get classifications for 4's\n",
    "class4 = NULL\n",
    "for (i in c(4001:5000))\n",
    "{\n",
    "    class4 = cbind(class4, knn(d, 6, d[i,], dist))\n",
    "}\n",
    "table(class4)"
   ]
  },
  {
   "cell_type": "code",
   "execution_count": 12,
   "metadata": {},
   "outputs": [
    {
     "data": {
      "text/plain": [
       "class5\n",
       "  3   4   5   6   8   9 \n",
       "  2   1 993   2   1   1 "
      ]
     },
     "metadata": {},
     "output_type": "display_data"
    }
   ],
   "source": [
    "#Get classifications for 5's\n",
    "class5 = NULL\n",
    "for (i in c(5001:6000))\n",
    "{\n",
    "    class5 = cbind(class5, knn(d, 6, d[i,], dist))\n",
    "}\n",
    "table(class5)"
   ]
  },
  {
   "cell_type": "code",
   "execution_count": 13,
   "metadata": {},
   "outputs": [
    {
     "data": {
      "text/plain": [
       "class6\n",
       "  5   6 \n",
       "  3 997 "
      ]
     },
     "metadata": {},
     "output_type": "display_data"
    }
   ],
   "source": [
    "#Get classifications for 6's\n",
    "class6 = NULL\n",
    "for (i in c(6001:7000))\n",
    "{\n",
    "    class6 = cbind(class6, knn(d, 6, d[i,], dist))\n",
    "}\n",
    "table(class6)"
   ]
  },
  {
   "cell_type": "code",
   "execution_count": 14,
   "metadata": {},
   "outputs": [
    {
     "data": {
      "text/plain": [
       "class7\n",
       "  0   1   2   4   7   9 \n",
       "  1   5   2  13 977   2 "
      ]
     },
     "metadata": {},
     "output_type": "display_data"
    }
   ],
   "source": [
    "#Get classifications for 7's\n",
    "class7 = NULL\n",
    "for (i in c(7001:8000))\n",
    "{\n",
    "    class7 = cbind(class7, knn(d, 6, d[i,], dist))\n",
    "}\n",
    "table(class7)"
   ]
  },
  {
   "cell_type": "code",
   "execution_count": 15,
   "metadata": {},
   "outputs": [
    {
     "data": {
      "text/plain": [
       "class8\n",
       "  0   1   2   3   4   5   6   8   9 \n",
       "  1   1  20  20   1  17   6 928   6 "
      ]
     },
     "metadata": {},
     "output_type": "display_data"
    }
   ],
   "source": [
    "#Get classifications for 8's\n",
    "class8 = NULL\n",
    "for (i in c(8001:9000))\n",
    "{\n",
    "    class8 = cbind(class8, knn(d, 6, d[i,], dist))\n",
    "}\n",
    "table(class8)"
   ]
  },
  {
   "cell_type": "code",
   "execution_count": 17,
   "metadata": {},
   "outputs": [
    {
     "data": {
      "text/plain": [
       "class9\n",
       "  1   2   3   4   5   7   8   9 \n",
       "  2   6  23  20   8   7   3 932 "
      ]
     },
     "metadata": {},
     "output_type": "display_data"
    }
   ],
   "source": [
    "#Get classifications for 9's\n",
    "class9 = NULL\n",
    "for (i in c(9000:10000))\n",
    "{\n",
    "    class9 = cbind(class9, knn(d, 6, d[i,], dist))\n",
    "}\n",
    "table(class9)"
   ]
  },
  {
   "cell_type": "code",
   "execution_count": 18,
   "metadata": {},
   "outputs": [
    {
     "data": {
      "text/plain": [
       "fullClass\n",
       "   0    1    2    3    4    5    6    7    8    9 \n",
       " 983 1018 1027 1027 1017 1028 1012  995  942  951 "
      ]
     },
     "metadata": {},
     "output_type": "display_data"
    }
   ],
   "source": [
    "#Get classifications for all numbers\n",
    "fullClass = NULL\n",
    "for (i in c(1:10000))\n",
    "{\n",
    "    fullClass = rbind(fullClass, knn(d, 6, d[i,], dist))\n",
    "}\n",
    "table(fullClass)"
   ]
  },
  {
   "cell_type": "code",
   "execution_count": 19,
   "metadata": {},
   "outputs": [],
   "source": [
    "# Create Confusion matrix\n",
    "confusion = matrix(0,10,10)\n",
    "rownames(confusion) = c(\"0\", \"1\", \"2\", \"3\", \"4\", \"5\", \"6\", \"7\", \"8\", \"9\")\n",
    "colnames(confusion) = c(\"0\", \"1\", \"2\", \"3\", \"4\", \"5\", \"6\", \"7\", \"8\", \"9\")"
   ]
  },
  {
   "cell_type": "code",
   "execution_count": 20,
   "metadata": {},
   "outputs": [],
   "source": [
    "# Populate confusion matrix\n",
    "for (i in c(0:9))\n",
    "{\n",
    "    t = table(fullClass[(1000*i + 1):(1000*(i + 1))])\n",
    "    confusion[i+1, names(t)] = t\n",
    "}"
   ]
  },
  {
   "cell_type": "code",
   "execution_count": 21,
   "metadata": {},
   "outputs": [
    {
     "data": {
      "text/html": [
       "<table>\n",
       "<thead><tr><th></th><th scope=col>0</th><th scope=col>1</th><th scope=col>2</th><th scope=col>3</th><th scope=col>4</th><th scope=col>5</th><th scope=col>6</th><th scope=col>7</th><th scope=col>8</th><th scope=col>9</th></tr></thead>\n",
       "<tbody>\n",
       "\t<tr><th scope=row>0</th><td>975</td><td> 10</td><td>  2</td><td>  0</td><td>  0</td><td>  0</td><td>  5</td><td>  2</td><td>  3</td><td>  3</td></tr>\n",
       "\t<tr><th scope=row>1</th><td>  3</td><td>993</td><td>  0</td><td>  0</td><td>  1</td><td>  0</td><td>  0</td><td>  1</td><td>  2</td><td>  0</td></tr>\n",
       "\t<tr><th scope=row>2</th><td>  1</td><td>  1</td><td>991</td><td>  0</td><td>  0</td><td>  0</td><td>  0</td><td>  3</td><td>  4</td><td>  0</td></tr>\n",
       "\t<tr><th scope=row>3</th><td>  0</td><td>  0</td><td>  4</td><td>982</td><td>  0</td><td>  6</td><td>  0</td><td>  1</td><td>  2</td><td>  5</td></tr>\n",
       "\t<tr><th scope=row>4</th><td>  2</td><td>  6</td><td>  2</td><td>  0</td><td>981</td><td>  1</td><td>  2</td><td>  4</td><td>  0</td><td>  2</td></tr>\n",
       "\t<tr><th scope=row>5</th><td>  0</td><td>  0</td><td>  0</td><td>  2</td><td>  1</td><td>993</td><td>  2</td><td>  0</td><td>  1</td><td>  1</td></tr>\n",
       "\t<tr><th scope=row>6</th><td>  0</td><td>  0</td><td>  0</td><td>  0</td><td>  0</td><td>  3</td><td>997</td><td>  0</td><td>  0</td><td>  0</td></tr>\n",
       "\t<tr><th scope=row>7</th><td>  1</td><td>  5</td><td>  2</td><td>  0</td><td> 13</td><td>  0</td><td>  0</td><td>977</td><td>  0</td><td>  2</td></tr>\n",
       "\t<tr><th scope=row>8</th><td>  1</td><td>  1</td><td> 20</td><td> 20</td><td>  1</td><td> 17</td><td>  6</td><td>  0</td><td>928</td><td>  6</td></tr>\n",
       "\t<tr><th scope=row>9</th><td>  0</td><td>  2</td><td>  6</td><td> 23</td><td> 20</td><td>  8</td><td>  0</td><td>  7</td><td>  2</td><td>932</td></tr>\n",
       "</tbody>\n",
       "</table>\n"
      ],
      "text/latex": [
       "\\begin{tabular}{r|llllllllll}\n",
       "  & 0 & 1 & 2 & 3 & 4 & 5 & 6 & 7 & 8 & 9\\\\\n",
       "\\hline\n",
       "\t0 & 975 &  10 &   2 &   0 &   0 &   0 &   5 &   2 &   3 &   3\\\\\n",
       "\t1 &   3 & 993 &   0 &   0 &   1 &   0 &   0 &   1 &   2 &   0\\\\\n",
       "\t2 &   1 &   1 & 991 &   0 &   0 &   0 &   0 &   3 &   4 &   0\\\\\n",
       "\t3 &   0 &   0 &   4 & 982 &   0 &   6 &   0 &   1 &   2 &   5\\\\\n",
       "\t4 &   2 &   6 &   2 &   0 & 981 &   1 &   2 &   4 &   0 &   2\\\\\n",
       "\t5 &   0 &   0 &   0 &   2 &   1 & 993 &   2 &   0 &   1 &   1\\\\\n",
       "\t6 &   0 &   0 &   0 &   0 &   0 &   3 & 997 &   0 &   0 &   0\\\\\n",
       "\t7 &   1 &   5 &   2 &   0 &  13 &   0 &   0 & 977 &   0 &   2\\\\\n",
       "\t8 &   1 &   1 &  20 &  20 &   1 &  17 &   6 &   0 & 928 &   6\\\\\n",
       "\t9 &   0 &   2 &   6 &  23 &  20 &   8 &   0 &   7 &   2 & 932\\\\\n",
       "\\end{tabular}\n"
      ],
      "text/markdown": [
       "\n",
       "| <!--/--> | 0 | 1 | 2 | 3 | 4 | 5 | 6 | 7 | 8 | 9 | \n",
       "|---|---|---|---|---|---|---|---|---|---|\n",
       "| 0 | 975 |  10 |   2 |   0 |   0 |   0 |   5 |   2 |   3 |   3 | \n",
       "| 1 |   3 | 993 |   0 |   0 |   1 |   0 |   0 |   1 |   2 |   0 | \n",
       "| 2 |   1 |   1 | 991 |   0 |   0 |   0 |   0 |   3 |   4 |   0 | \n",
       "| 3 |   0 |   0 |   4 | 982 |   0 |   6 |   0 |   1 |   2 |   5 | \n",
       "| 4 |   2 |   6 |   2 |   0 | 981 |   1 |   2 |   4 |   0 |   2 | \n",
       "| 5 |   0 |   0 |   0 |   2 |   1 | 993 |   2 |   0 |   1 |   1 | \n",
       "| 6 |   0 |   0 |   0 |   0 |   0 |   3 | 997 |   0 |   0 |   0 | \n",
       "| 7 |   1 |   5 |   2 |   0 |  13 |   0 |   0 | 977 |   0 |   2 | \n",
       "| 8 |   1 |   1 |  20 |  20 |   1 |  17 |   6 |   0 | 928 |   6 | \n",
       "| 9 |   0 |   2 |   6 |  23 |  20 |   8 |   0 |   7 |   2 | 932 | \n",
       "\n",
       "\n"
      ],
      "text/plain": [
       "  0   1   2   3   4   5   6   7   8   9  \n",
       "0 975  10   2   0   0   0   5   2   3   3\n",
       "1   3 993   0   0   1   0   0   1   2   0\n",
       "2   1   1 991   0   0   0   0   3   4   0\n",
       "3   0   0   4 982   0   6   0   1   2   5\n",
       "4   2   6   2   0 981   1   2   4   0   2\n",
       "5   0   0   0   2   1 993   2   0   1   1\n",
       "6   0   0   0   0   0   3 997   0   0   0\n",
       "7   1   5   2   0  13   0   0 977   0   2\n",
       "8   1   1  20  20   1  17   6   0 928   6\n",
       "9   0   2   6  23  20   8   0   7   2 932"
      ]
     },
     "metadata": {},
     "output_type": "display_data"
    }
   ],
   "source": [
    "# Show confusion matrix\n",
    "confusion"
   ]
  },
  {
   "cell_type": "code",
   "execution_count": 22,
   "metadata": {},
   "outputs": [
    {
     "data": {
      "text/html": [
       "9749"
      ],
      "text/latex": [
       "9749"
      ],
      "text/markdown": [
       "9749"
      ],
      "text/plain": [
       "[1] 9749"
      ]
     },
     "metadata": {},
     "output_type": "display_data"
    }
   ],
   "source": [
    "# Show diagonals of confusion matrix\n",
    "sum(diag(confusion))"
   ]
  },
  {
   "cell_type": "code",
   "execution_count": null,
   "metadata": {},
   "outputs": [],
   "source": []
  }
 ],
 "metadata": {
  "kernelspec": {
   "display_name": "R",
   "language": "R",
   "name": "ir"
  },
  "language_info": {
   "codemirror_mode": "r",
   "file_extension": ".r",
   "mimetype": "text/x-r-source",
   "name": "R",
   "pygments_lexer": "r",
   "version": "3.5.1"
  }
 },
 "nbformat": 4,
 "nbformat_minor": 2
}
