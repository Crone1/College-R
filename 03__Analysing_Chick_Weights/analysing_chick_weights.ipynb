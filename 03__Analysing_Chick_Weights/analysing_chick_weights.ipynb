{
 "cells": [
  {
   "metadata": {},
   "cell_type": "markdown",
   "source": "# Read Data",
   "id": "1e228d71cc37e381"
  },
  {
   "metadata": {},
   "cell_type": "code",
   "outputs": [],
   "execution_count": null,
   "source": [
    "# Read in data into table\n",
    "ChickWeight = read.table(\"ChickWeight.txt\", header=T)"
   ],
   "id": "76589417adcb2b3a"
  },
  {
   "metadata": {},
   "cell_type": "code",
   "outputs": [],
   "execution_count": null,
   "source": "head(ChickWeight)",
   "id": "c766d1273d776539"
  },
  {
   "metadata": {},
   "cell_type": "code",
   "outputs": [],
   "execution_count": null,
   "source": "attach(ChickWeight)",
   "id": "22c992383a07562"
  },
  {
   "metadata": {},
   "cell_type": "markdown",
   "source": [
    "# Plot Chick Weights For Diet 1\n",
    "\n",
    "Plot the weights of each chick at each time for Diet 1 in the same figure.\n",
    "Use different colours or different symbols for each chick."
   ],
   "id": "d986e9c8764d577"
  },
  {
   "metadata": {},
   "cell_type": "code",
   "outputs": [],
   "execution_count": null,
   "source": [
    "plot.new()\n",
    "plot.window(xlim=c(0,22), ylim=c(0,350))\n",
    "axis(1)\n",
    "axis(2)\n",
    "plot(Time, weight, col=Chick)"
   ],
   "id": "fe9134ef812c9999"
  },
  {
   "metadata": {},
   "cell_type": "markdown",
   "source": [
    "# Create Boxplot Of Chick Weights\n",
    "\n",
    "Use the ~ operator to create boxplots of the weights at each time for Diet 1 in the same figure."
   ],
   "id": "7fc28ced2aca76f1"
  },
  {
   "metadata": {},
   "cell_type": "code",
   "outputs": [],
   "execution_count": null,
   "source": [
    "plot.new()\n",
    "par(mfrow=c(3,7))\n",
    "for (i in c(1:21))\n",
    "{\n",
    "    boxplot(weight, Time~i)\n",
    "}"
   ],
   "id": "34867e3dd25cfcfa"
  },
  {
   "metadata": {},
   "cell_type": "markdown",
   "source": [
    "# Get The Mean Weight For Each Diet\n",
    "\n",
    "Use the aggregate function to find the mean weight for each diet at each time.\n"
   ],
   "id": "9f2e9f2389d92d0a"
  },
  {
   "metadata": {},
   "cell_type": "code",
   "outputs": [],
   "execution_count": null,
   "source": [
    "par(mfrow = c(1,1))\n",
    "aggregate(weight, by=list(Diet), mean)"
   ],
   "id": "499afcd61e634e75"
  },
  {
   "metadata": {},
   "cell_type": "markdown",
   "source": [
    "# Plot The Mean Weight For Each Diet\n",
    "\n",
    "Plot the mean weight for each diet at each time on the same figure with different colours for each diet.\n"
   ],
   "id": "235e544f14bc2015"
  },
  {
   "metadata": {},
   "cell_type": "code",
   "outputs": [],
   "execution_count": null,
   "source": [
    "plot.new()\n",
    "par(mfrow=c(1,1))\n",
    "plot.window(xlim=c(0,22), ylim=c(0,350))\n",
    "axis(1)\n",
    "axis(2)\n",
    "\n",
    "plot(Time, mean(weight))"
   ],
   "id": "77190f0e6e753c37"
  },
  {
   "metadata": {},
   "cell_type": "markdown",
   "source": [
    "# Create BoxPlot Of Chick Weights at Time=20\n",
    "\n",
    "Use the ~ operator to create boxplots of each diet at Time = 20 in the same figure"
   ],
   "id": "4ebde2de011025b5"
  },
  {
   "metadata": {},
   "cell_type": "code",
   "outputs": [],
   "execution_count": null,
   "source": [
    "plot.new()\n",
    "par(mfrow=c(2,2))\n",
    "\n",
    "for (i in c(1:5))\n",
    "{\n",
    "    boxplot(weight, Time=20, Diet~i)\n",
    "}"
   ],
   "id": "79693a322a3c723a"
  },
  {
   "metadata": {},
   "cell_type": "code",
   "outputs": [],
   "execution_count": null,
   "source": "",
   "id": "832f4dad9821da1c"
  }
 ],
 "metadata": {
  "kernelspec": {
   "display_name": "Python 3",
   "language": "python",
   "name": "python3"
  },
  "language_info": {
   "codemirror_mode": {
    "name": "ipython",
    "version": 2
   },
   "file_extension": ".py",
   "mimetype": "text/x-python",
   "name": "python",
   "nbconvert_exporter": "python",
   "pygments_lexer": "ipython2",
   "version": "2.7.6"
  }
 },
 "nbformat": 4,
 "nbformat_minor": 5
}
