{
 "cells": [
  {
   "cell_type": "code",
   "execution_count": 29,
   "metadata": {},
   "outputs": [],
   "source": [
    "# make square matrix\n",
    "square = matrix(c(1,1,-1,-1,1,-1,1,-1), 4, 2)"
   ]
  },
  {
   "cell_type": "code",
   "execution_count": 30,
   "metadata": {},
   "outputs": [
    {
     "data": {
      "text/html": [
       "<table>\n",
       "<tbody>\n",
       "\t<tr><td> 1</td><td> 1</td></tr>\n",
       "\t<tr><td> 1</td><td>-1</td></tr>\n",
       "\t<tr><td>-1</td><td> 1</td></tr>\n",
       "\t<tr><td>-1</td><td>-1</td></tr>\n",
       "</tbody>\n",
       "</table>\n"
      ],
      "text/latex": [
       "\\begin{tabular}{ll}\n",
       "\t  1 &  1\\\\\n",
       "\t  1 & -1\\\\\n",
       "\t -1 &  1\\\\\n",
       "\t -1 & -1\\\\\n",
       "\\end{tabular}\n"
      ],
      "text/markdown": [
       "\n",
       "|  1 |  1 | \n",
       "|  1 | -1 | \n",
       "| -1 |  1 | \n",
       "| -1 | -1 | \n",
       "\n",
       "\n"
      ],
      "text/plain": [
       "     [,1] [,2]\n",
       "[1,]  1    1  \n",
       "[2,]  1   -1  \n",
       "[3,] -1    1  \n",
       "[4,] -1   -1  "
      ]
     },
     "metadata": {},
     "output_type": "display_data"
    }
   ],
   "source": [
    "# print matrix\n",
    "square"
   ]
  },
  {
   "cell_type": "code",
   "execution_count": 31,
   "metadata": {},
   "outputs": [],
   "source": [
    "# create rotation angle\n",
    "theta = 2 * pi/10000"
   ]
  },
  {
   "cell_type": "code",
   "execution_count": 32,
   "metadata": {},
   "outputs": [
    {
     "data": {
      "text/html": [
       "<table>\n",
       "<tbody>\n",
       "\t<tr><td>0.9999998026 </td><td>-0.0006283185</td></tr>\n",
       "\t<tr><td>0.0006283185 </td><td> 0.9999998026</td></tr>\n",
       "</tbody>\n",
       "</table>\n"
      ],
      "text/latex": [
       "\\begin{tabular}{ll}\n",
       "\t 0.9999998026  & -0.0006283185\\\\\n",
       "\t 0.0006283185  &  0.9999998026\\\\\n",
       "\\end{tabular}\n"
      ],
      "text/markdown": [
       "\n",
       "| 0.9999998026  | -0.0006283185 | \n",
       "| 0.0006283185  |  0.9999998026 | \n",
       "\n",
       "\n"
      ],
      "text/plain": [
       "     [,1]         [,2]         \n",
       "[1,] 0.9999998026 -0.0006283185\n",
       "[2,] 0.0006283185  0.9999998026"
      ]
     },
     "metadata": {},
     "output_type": "display_data"
    }
   ],
   "source": [
    "# create rotation matrix\n",
    "rotate = matrix(c(cos(theta), sin(theta), -sin(theta), cos(theta)), 2, 2)\n",
    "rotate"
   ]
  },
  {
   "cell_type": "code",
   "execution_count": 33,
   "metadata": {},
   "outputs": [
    {
     "ename": "ERROR",
     "evalue": "Error in rotate %*% square[, ]: non-conformable arguments\n",
     "output_type": "error",
     "traceback": [
      "Error in rotate %*% square[, ]: non-conformable arguments\nTraceback:\n"
     ]
    }
   ],
   "source": [
    "# rotate the square\n",
    "for(i in c(1:10))\n",
    "{\n",
    "    square[,] = rotate %*% square[,]\n",
    "    plot.new()\n",
    "    plot.window(xlim=c(-2,2), ylim= c(-2,2))\n",
    "    lines(square[1,], square[2,])\n",
    "}"
   ]
  },
  {
   "cell_type": "code",
   "execution_count": null,
   "metadata": {},
   "outputs": [],
   "source": []
  }
 ],
 "metadata": {
  "kernelspec": {
   "display_name": "R",
   "language": "R",
   "name": "ir"
  }
 },
 "nbformat": 4,
 "nbformat_minor": 2
}
